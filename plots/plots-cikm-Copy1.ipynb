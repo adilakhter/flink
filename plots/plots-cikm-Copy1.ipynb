{
 "cells": [
  {
   "cell_type": "markdown",
   "metadata": {},
   "source": [
    "# Window Aggregation Experiments"
   ]
  },
  {
   "cell_type": "markdown",
   "metadata": {},
   "source": [
    "<h2>Setting up</h2>"
   ]
  },
  {
   "cell_type": "code",
   "execution_count": 62,
   "metadata": {
    "collapsed": false,
    "scrolled": false
   },
   "outputs": [],
   "source": [
    "import pandas as pd\n",
    "import numpy as np\n",
    "import matplotlib.pyplot as plt\n",
    "%matplotlib inline"
   ]
  },
  {
   "cell_type": "markdown",
   "metadata": {},
   "source": [
    "<h3>Experiment 1</h3>"
   ]
  },
  {
   "cell_type": "code",
   "execution_count": 129,
   "metadata": {
    "collapsed": false
   },
   "outputs": [
    {
     "data": {
      "text/html": [
       "<div>\n",
       "<table border=\"1\" class=\"dataframe\">\n",
       "  <thead>\n",
       "    <tr style=\"text-align: right;\">\n",
       "      <th></th>\n",
       "      <th>AGG-PAIRS-L-MERGE</th>\n",
       "      <th>AGG-PAIRS-E-MERGE</th>\n",
       "      <th>AGG-B2B-L-MERGE</th>\n",
       "      <th>AGG-B2B-E-MERGE</th>\n",
       "      <th>AGG-GEN-L-MERGE</th>\n",
       "      <th>AGG-GEN-E-MERGE</th>\n",
       "      <th>AGG-PAIRS-L-UPDATE</th>\n",
       "      <th>AGG-PAIRS-E-UPDATE</th>\n",
       "      <th>AGG-B2B-L-UPDATE</th>\n",
       "      <th>AGG-B2B-E-UPDATE</th>\n",
       "      <th>AGG-GEN-L-UPDATE</th>\n",
       "      <th>AGG-GEN-E-UPDATE</th>\n",
       "      <th>RED-PAIRS-L</th>\n",
       "      <th>RED-PAIRS-E</th>\n",
       "      <th>RED-B2B-L</th>\n",
       "      <th>RED-B2B-E</th>\n",
       "      <th>RED-GEN-L</th>\n",
       "      <th>RED-GEN-E</th>\n",
       "      <th>MAXB-PAIR-L</th>\n",
       "      <th>MAXB-PAIR-E</th>\n",
       "      <th>MAXB-B2B-L</th>\n",
       "      <th>MAXB-B2B-E</th>\n",
       "      <th>MAXB-GEN-L</th>\n",
       "      <th>MAXB-GEN-E</th>\n",
       "      <th>AVGB-PAIR-L</th>\n",
       "      <th>AVGB-PAIR-E</th>\n",
       "      <th>AVGB-B2B-L</th>\n",
       "      <th>AVGB-B2B-E</th>\n",
       "      <th>AVGB-GEN-L</th>\n",
       "      <th>AVGB-GEN-E</th>\n",
       "      <th>PARTIALS-PAIR-L</th>\n",
       "      <th>PARTIALS-PAIR-E</th>\n",
       "      <th>PARTIALS-B2B-L</th>\n",
       "      <th>PARTIALS-B2B-E</th>\n",
       "      <th>PARTIALS-GEN-L</th>\n",
       "      <th>PARTIALS-GEN-E</th>\n",
       "      <th>AVGCPU-PAIR-L</th>\n",
       "      <th>AVGCPU-PAIR-E</th>\n",
       "      <th>AVGCPU-B2B-L</th>\n",
       "      <th>AVGCPU-B2B-E</th>\n",
       "      <th>AVGCPU-GEN-L</th>\n",
       "      <th>AVGCPU-GEN-E</th>\n",
       "      <th>TOTALCPU-PAIR-L</th>\n",
       "      <th>TOTALCPU-PAIR-E</th>\n",
       "      <th>TOTALCPU-B2B-L</th>\n",
       "      <th>TOTALCPU-B2B-E</th>\n",
       "      <th>TOTALCPU-GEN-L</th>\n",
       "      <th>TOTALCPU-GEN-E</th>\n",
       "      <th>MAXB-NO</th>\n",
       "      <th>AVGB-NO</th>\n",
       "      <th>AGG-NO</th>\n",
       "    </tr>\n",
       "    <tr>\n",
       "      <th>#QUERIES</th>\n",
       "      <th></th>\n",
       "      <th></th>\n",
       "      <th></th>\n",
       "      <th></th>\n",
       "      <th></th>\n",
       "      <th></th>\n",
       "      <th></th>\n",
       "      <th></th>\n",
       "      <th></th>\n",
       "      <th></th>\n",
       "      <th></th>\n",
       "      <th></th>\n",
       "      <th></th>\n",
       "      <th></th>\n",
       "      <th></th>\n",
       "      <th></th>\n",
       "      <th></th>\n",
       "      <th></th>\n",
       "      <th></th>\n",
       "      <th></th>\n",
       "      <th></th>\n",
       "      <th></th>\n",
       "      <th></th>\n",
       "      <th></th>\n",
       "      <th></th>\n",
       "      <th></th>\n",
       "      <th></th>\n",
       "      <th></th>\n",
       "      <th></th>\n",
       "      <th></th>\n",
       "      <th></th>\n",
       "      <th></th>\n",
       "      <th></th>\n",
       "      <th></th>\n",
       "      <th></th>\n",
       "      <th></th>\n",
       "      <th></th>\n",
       "      <th></th>\n",
       "      <th></th>\n",
       "      <th></th>\n",
       "      <th></th>\n",
       "      <th></th>\n",
       "      <th></th>\n",
       "      <th></th>\n",
       "      <th></th>\n",
       "      <th></th>\n",
       "      <th></th>\n",
       "      <th></th>\n",
       "      <th></th>\n",
       "      <th></th>\n",
       "      <th></th>\n",
       "    </tr>\n",
       "  </thead>\n",
       "  <tbody>\n",
       "    <tr>\n",
       "      <th>1</th>\n",
       "      <td>647796</td>\n",
       "      <td>269913</td>\n",
       "      <td>647796</td>\n",
       "      <td>215930</td>\n",
       "      <td>107858034</td>\n",
       "      <td>1349156</td>\n",
       "      <td>32174568</td>\n",
       "      <td>32930337</td>\n",
       "      <td>32174568</td>\n",
       "      <td>32552453</td>\n",
       "      <td>0</td>\n",
       "      <td>599211755</td>\n",
       "      <td>32822364</td>\n",
       "      <td>33200250</td>\n",
       "      <td>32606435</td>\n",
       "      <td>32768383</td>\n",
       "      <td>107858034</td>\n",
       "      <td>600560911</td>\n",
       "      <td>8</td>\n",
       "      <td>15</td>\n",
       "      <td>4</td>\n",
       "      <td>7</td>\n",
       "      <td>1024</td>\n",
       "      <td>2047</td>\n",
       "      <td>6.0</td>\n",
       "      <td>11.0</td>\n",
       "      <td>4.0</td>\n",
       "      <td>7.0</td>\n",
       "      <td>290.285714</td>\n",
       "      <td>579.571429</td>\n",
       "      <td>215938</td>\n",
       "      <td>215938</td>\n",
       "      <td>107969</td>\n",
       "      <td>107969</td>\n",
       "      <td>32390506</td>\n",
       "      <td>32390506</td>\n",
       "      <td>1278</td>\n",
       "      <td>1282</td>\n",
       "      <td>1227</td>\n",
       "      <td>1258</td>\n",
       "      <td>2171</td>\n",
       "      <td>5822</td>\n",
       "      <td>41408296000</td>\n",
       "      <td>41545954000</td>\n",
       "      <td>39763191000</td>\n",
       "      <td>40760123000</td>\n",
       "      <td>7.033862e+10</td>\n",
       "      <td>1.890000e+16</td>\n",
       "      <td>1024</td>\n",
       "      <td>290</td>\n",
       "      <td>107858034</td>\n",
       "    </tr>\n",
       "    <tr>\n",
       "      <th>10</th>\n",
       "      <td>2914337</td>\n",
       "      <td>470730</td>\n",
       "      <td>1855827</td>\n",
       "      <td>464722</td>\n",
       "      <td>1512769315</td>\n",
       "      <td>1252443</td>\n",
       "      <td>32325724</td>\n",
       "      <td>32762850</td>\n",
       "      <td>32349169</td>\n",
       "      <td>32611235</td>\n",
       "      <td>0</td>\n",
       "      <td>922680786</td>\n",
       "      <td>35240061</td>\n",
       "      <td>33233580</td>\n",
       "      <td>34204996</td>\n",
       "      <td>33075957</td>\n",
       "      <td>1512769315</td>\n",
       "      <td>923933229</td>\n",
       "      <td>64</td>\n",
       "      <td>127</td>\n",
       "      <td>32</td>\n",
       "      <td>63</td>\n",
       "      <td>32768</td>\n",
       "      <td>65535</td>\n",
       "      <td>24.8</td>\n",
       "      <td>48.6</td>\n",
       "      <td>15.0</td>\n",
       "      <td>29.0</td>\n",
       "      <td>5460.000000</td>\n",
       "      <td>10919.000000</td>\n",
       "      <td>64782</td>\n",
       "      <td>64782</td>\n",
       "      <td>41337</td>\n",
       "      <td>41337</td>\n",
       "      <td>32390506</td>\n",
       "      <td>32390506</td>\n",
       "      <td>1498</td>\n",
       "      <td>1489</td>\n",
       "      <td>1401</td>\n",
       "      <td>1405</td>\n",
       "      <td>8486</td>\n",
       "      <td>7984</td>\n",
       "      <td>48534892000</td>\n",
       "      <td>48248698000</td>\n",
       "      <td>45399041000</td>\n",
       "      <td>45519959000</td>\n",
       "      <td>2.750000e+16</td>\n",
       "      <td>2.590000e+16</td>\n",
       "      <td>10240</td>\n",
       "      <td>2900</td>\n",
       "      <td>1078580340</td>\n",
       "    </tr>\n",
       "    <tr>\n",
       "      <th>20</th>\n",
       "      <td>3516910</td>\n",
       "      <td>480815</td>\n",
       "      <td>2071713</td>\n",
       "      <td>507109</td>\n",
       "      <td>1869432544</td>\n",
       "      <td>1578819</td>\n",
       "      <td>32327060</td>\n",
       "      <td>32796593</td>\n",
       "      <td>32352700</td>\n",
       "      <td>32610676</td>\n",
       "      <td>0</td>\n",
       "      <td>922687786</td>\n",
       "      <td>35843970</td>\n",
       "      <td>33277408</td>\n",
       "      <td>34424413</td>\n",
       "      <td>33117785</td>\n",
       "      <td>1869432544</td>\n",
       "      <td>924266605</td>\n",
       "      <td>64</td>\n",
       "      <td>127</td>\n",
       "      <td>32</td>\n",
       "      <td>63</td>\n",
       "      <td>32768</td>\n",
       "      <td>65535</td>\n",
       "      <td>24.8</td>\n",
       "      <td>48.6</td>\n",
       "      <td>15.0</td>\n",
       "      <td>29.0</td>\n",
       "      <td>5460.000000</td>\n",
       "      <td>10919.000000</td>\n",
       "      <td>63446</td>\n",
       "      <td>63446</td>\n",
       "      <td>37806</td>\n",
       "      <td>37806</td>\n",
       "      <td>32390506</td>\n",
       "      <td>32390506</td>\n",
       "      <td>1826</td>\n",
       "      <td>1781</td>\n",
       "      <td>1599</td>\n",
       "      <td>1602</td>\n",
       "      <td>11592</td>\n",
       "      <td>9403</td>\n",
       "      <td>59170273000</td>\n",
       "      <td>57694590000</td>\n",
       "      <td>51815802000</td>\n",
       "      <td>51904163000</td>\n",
       "      <td>3.750000e+16</td>\n",
       "      <td>3.050000e+16</td>\n",
       "      <td>20480</td>\n",
       "      <td>5800</td>\n",
       "      <td>2157160680</td>\n",
       "    </tr>\n",
       "    <tr>\n",
       "      <th>40</th>\n",
       "      <td>10188061</td>\n",
       "      <td>1593907</td>\n",
       "      <td>8122743</td>\n",
       "      <td>1451464</td>\n",
       "      <td>5315777522</td>\n",
       "      <td>4457785</td>\n",
       "      <td>32325724</td>\n",
       "      <td>32789298</td>\n",
       "      <td>32338151</td>\n",
       "      <td>32737249</td>\n",
       "      <td>0</td>\n",
       "      <td>922652786</td>\n",
       "      <td>42513785</td>\n",
       "      <td>34383205</td>\n",
       "      <td>40460894</td>\n",
       "      <td>34188713</td>\n",
       "      <td>5315777522</td>\n",
       "      <td>927110571</td>\n",
       "      <td>64</td>\n",
       "      <td>127</td>\n",
       "      <td>64</td>\n",
       "      <td>127</td>\n",
       "      <td>32768</td>\n",
       "      <td>65535</td>\n",
       "      <td>24.8</td>\n",
       "      <td>48.6</td>\n",
       "      <td>24.8</td>\n",
       "      <td>48.6</td>\n",
       "      <td>5460.000000</td>\n",
       "      <td>10919.000000</td>\n",
       "      <td>64782</td>\n",
       "      <td>64782</td>\n",
       "      <td>52355</td>\n",
       "      <td>52355</td>\n",
       "      <td>32390506</td>\n",
       "      <td>32390506</td>\n",
       "      <td>2785</td>\n",
       "      <td>2730</td>\n",
       "      <td>2102</td>\n",
       "      <td>2069</td>\n",
       "      <td>28305</td>\n",
       "      <td>9647</td>\n",
       "      <td>90229997000</td>\n",
       "      <td>88456362000</td>\n",
       "      <td>68104839000</td>\n",
       "      <td>67039216000</td>\n",
       "      <td>9.170000e+16</td>\n",
       "      <td>3.120000e+16</td>\n",
       "      <td>40960</td>\n",
       "      <td>11600</td>\n",
       "      <td>4314321360</td>\n",
       "    </tr>\n",
       "  </tbody>\n",
       "</table>\n",
       "</div>"
      ],
      "text/plain": [
       "          AGG-PAIRS-L-MERGE  AGG-PAIRS-E-MERGE  AGG-B2B-L-MERGE  AGG-B2B-E-MERGE  AGG-GEN-L-MERGE  AGG-GEN-E-MERGE  AGG-PAIRS-L-UPDATE  AGG-PAIRS-E-UPDATE  AGG-B2B-L-UPDATE  AGG-B2B-E-UPDATE  AGG-GEN-L-UPDATE  AGG-GEN-E-UPDATE  RED-PAIRS-L  RED-PAIRS-E  RED-B2B-L  RED-B2B-E   RED-GEN-L  RED-GEN-E  MAXB-PAIR-L  MAXB-PAIR-E  MAXB-B2B-L  MAXB-B2B-E  MAXB-GEN-L  MAXB-GEN-E  AVGB-PAIR-L  AVGB-PAIR-E  AVGB-B2B-L  AVGB-B2B-E   AVGB-GEN-L    AVGB-GEN-E  PARTIALS-PAIR-L  PARTIALS-PAIR-E  PARTIALS-B2B-L  PARTIALS-B2B-E  PARTIALS-GEN-L  PARTIALS-GEN-E  AVGCPU-PAIR-L  AVGCPU-PAIR-E  AVGCPU-B2B-L  AVGCPU-B2B-E  AVGCPU-GEN-L  AVGCPU-GEN-E  TOTALCPU-PAIR-L  TOTALCPU-PAIR-E  TOTALCPU-B2B-L  TOTALCPU-B2B-E  TOTALCPU-GEN-L  TOTALCPU-GEN-E  MAXB-NO  AVGB-NO      AGG-NO\n",
       "#QUERIES                                                                                                                                                                                                                                                                                                                                                                                                                                                                                                                                                                                                                                                                                                                                                                                \n",
       "1                    647796             269913           647796           215930        107858034          1349156            32174568            32930337          32174568          32552453                 0         599211755     32822364     33200250   32606435   32768383   107858034  600560911            8           15           4           7        1024        2047          6.0         11.0         4.0         7.0   290.285714    579.571429           215938           215938          107969          107969        32390506        32390506           1278           1282          1227          1258          2171          5822      41408296000      41545954000     39763191000     40760123000    7.033862e+10    1.890000e+16     1024      290   107858034\n",
       "10                  2914337             470730          1855827           464722       1512769315          1252443            32325724            32762850          32349169          32611235                 0         922680786     35240061     33233580   34204996   33075957  1512769315  923933229           64          127          32          63       32768       65535         24.8         48.6        15.0        29.0  5460.000000  10919.000000            64782            64782           41337           41337        32390506        32390506           1498           1489          1401          1405          8486          7984      48534892000      48248698000     45399041000     45519959000    2.750000e+16    2.590000e+16    10240     2900  1078580340\n",
       "20                  3516910             480815          2071713           507109       1869432544          1578819            32327060            32796593          32352700          32610676                 0         922687786     35843970     33277408   34424413   33117785  1869432544  924266605           64          127          32          63       32768       65535         24.8         48.6        15.0        29.0  5460.000000  10919.000000            63446            63446           37806           37806        32390506        32390506           1826           1781          1599          1602         11592          9403      59170273000      57694590000     51815802000     51904163000    3.750000e+16    3.050000e+16    20480     5800  2157160680\n",
       "40                 10188061            1593907          8122743          1451464       5315777522          4457785            32325724            32789298          32338151          32737249                 0         922652786     42513785     34383205   40460894   34188713  5315777522  927110571           64          127          64         127       32768       65535         24.8         48.6        24.8        48.6  5460.000000  10919.000000            64782            64782           52355           52355        32390506        32390506           2785           2730          2102          2069         28305          9647      90229997000      88456362000     68104839000     67039216000    9.170000e+16    3.120000e+16    40960    11600  4314321360"
      ]
     },
     "execution_count": 129,
     "metadata": {},
     "output_type": "execute_result"
    }
   ],
   "source": [
    "DF = pd.read_csv('../setups/exp1-flat.csv',delimiter=';', index_col=[0])\n",
    "DF"
   ]
  },
  {
   "cell_type": "code",
   "execution_count": 160,
   "metadata": {
    "collapsed": false
   },
   "outputs": [],
   "source": [
    "# Style parameters\n",
    "pd.set_option('display.mpl_style', 'default') \n",
    "pd.set_option('display.width', 5000) \n",
    "pd.set_option('display.max_columns', 50) \n"
   ]
  },
  {
   "cell_type": "markdown",
   "metadata": {},
   "source": [
    "<h2>Part I</h2> \n",
    "<h3>No_aggregation vs aggregation</h3>"
   ]
  },
  {
   "cell_type": "code",
   "execution_count": 161,
   "metadata": {
    "collapsed": false
   },
   "outputs": [],
   "source": [
    "#DF[['TOTALCPU-B2B-E','RED-B2B-E']]\n",
    "#TODO"
   ]
  },
  {
   "cell_type": "markdown",
   "metadata": {},
   "source": [
    "<h3>Time & number of Aggregation Calls</h3>"
   ]
  },
  {
   "cell_type": "code",
   "execution_count": 162,
   "metadata": {
    "collapsed": false
   },
   "outputs": [
    {
     "data": {
      "text/plain": [
       "<matplotlib.axes._subplots.AxesSubplot at 0x1133ce290>"
      ]
     },
     "execution_count": 162,
     "metadata": {},
     "output_type": "execute_result"
    },
    {
     "data": {
      "image/png": "[encoded data removed]",
      "text/plain": [
       "<matplotlib.figure.Figure at 0x112e70c90>"
      ]
     },
     "metadata": {},
     "output_type": "display_data"
    }
   ],
   "source": [
    "#DF['TOTALCPU-B2B-E'].plot()\n",
    "DF['TOTALCPU-B2B-E'].plot(kind='bar')"
   ]
  },
  {
   "cell_type": "code",
   "execution_count": 163,
   "metadata": {
    "collapsed": false
   },
   "outputs": [
    {
     "data": {
      "text/plain": [
       "(32000000, 35000000)"
      ]
     },
     "execution_count": 163,
     "metadata": {},
     "output_type": "execute_result"
    },
    {
     "data": {
      "image/png": "[encoded data removed]",
      "text/plain": [
       "<matplotlib.figure.Figure at 0x1130c5e50>"
      ]
     },
     "metadata": {},
     "output_type": "display_data"
    }
   ],
   "source": [
    "#ax = DF['RED-B2B-E'].plot()\n",
    "ax = DF['RED-B2B-E'].plot(kind='bar')\n",
    "ax.set_ylim(32000000,35000000)\n",
    "#TODO - Rerun the 20 query experiments so that aggregates appear smoother"
   ]
  },
  {
   "cell_type": "markdown",
   "metadata": {},
   "source": [
    "<h2>Part II</h2> \n",
    "<h3>Periodic Query Comparison - Pairs vs B2B</h3>"
   ]
  },
  {
   "cell_type": "code",
   "execution_count": 164,
   "metadata": {
    "collapsed": false
   },
   "outputs": [
    {
     "data": {
      "text/plain": [
       "<matplotlib.axes._subplots.AxesSubplot at 0x113047e90>"
      ]
     },
     "execution_count": 164,
     "metadata": {},
     "output_type": "execute_result"
    },
    {
     "data": {
      "image/png": "[encoded data removed]",
      "text/plain": [
       "<matplotlib.figure.Figure at 0x11336bf50>"
      ]
     },
     "metadata": {},
     "output_type": "display_data"
    }
   ],
   "source": [
    "#Comparing Number of Generated Partials\n",
    "DF[['PARTIALS-PAIR-L','PARTIALS-B2B-L']].plot(kind='bar')\n",
    "#TODO - RERUN 1C EXPERIMENT WITH NEW RANGES"
   ]
  },
  {
   "cell_type": "code",
   "execution_count": 165,
   "metadata": {
    "collapsed": false
   },
   "outputs": [
    {
     "data": {
      "text/plain": [
       "<matplotlib.axes._subplots.AxesSubplot at 0x112e8cd10>"
      ]
     },
     "execution_count": 165,
     "metadata": {},
     "output_type": "execute_result"
    },
    {
     "data": {
      "image/png": "[encoded data removed]",
      "text/plain": [
       "<matplotlib.figure.Figure at 0x11336b350>"
      ]
     },
     "metadata": {},
     "output_type": "display_data"
    }
   ],
   "source": [
    "#Comparing Memory Requirements\n",
    "\n",
    "#MAX MEMORY BUGGER ALLOCATED\n",
    "DF[['MAXB-PAIR-L','MAXB-PAIR-E','MAXB-B2B-E']].plot(kind='bar')\n",
    "#TODO MAKE NICER AND MORE OBVIOUS"
   ]
  },
  {
   "cell_type": "code",
   "execution_count": 168,
   "metadata": {
    "collapsed": false
   },
   "outputs": [
    {
     "data": {
      "text/plain": [
       "<matplotlib.axes._subplots.AxesSubplot at 0x111ba4e90>"
      ]
     },
     "execution_count": 168,
     "metadata": {},
     "output_type": "execute_result"
    },
    {
     "data": {
      "image/png": "[encoded data removed]",
      "text/plain": [
       "<matplotlib.figure.Figure at 0x110bb9390>"
      ]
     },
     "metadata": {},
     "output_type": "display_data"
    }
   ],
   "source": [
    "\n",
    "#MAX MEMORY BUFFERS ALLOCATED\n",
    "DF[['AVGB-PAIR-L','AVGB-PAIR-E','AVGB-B2B-E']].plot(kind='bar')"
   ]
  },
  {
   "cell_type": "code",
   "execution_count": 176,
   "metadata": {
    "collapsed": false
   },
   "outputs": [
    {
     "data": {
      "text/plain": [
       "(32600000, 43000000)"
      ]
     },
     "execution_count": 176,
     "metadata": {},
     "output_type": "execute_result"
    },
    {
     "data": {
      "image/png": "[encoded data removed]",
      "text/plain": [
       "<matplotlib.figure.Figure at 0x110b81210>"
      ]
     },
     "metadata": {},
     "output_type": "display_data"
    }
   ],
   "source": [
    "#Comparing Aggregation Calls\n",
    "\n",
    "#ax = DF[['RED-PAIRS-L','RED-PAIRS-E','RED-B2B-E']].plot(kind='bar', logy=True)\n",
    "ax = DF[['RED-PAIRS-L','RED-PAIRS-E','RED-B2B-L','RED-B2B-E']].plot(kind='bar', logy=True)\n",
    "ax.set_ylim(32600000,43000000)"
   ]
  },
  {
   "cell_type": "code",
   "execution_count": 178,
   "metadata": {
    "collapsed": false
   },
   "outputs": [
    {
     "data": {
      "text/plain": [
       "(38545954000, 91545954000)"
      ]
     },
     "execution_count": 178,
     "metadata": {},
     "output_type": "execute_result"
    },
    {
     "data": {
      "image/png": "[encoded data removed]",
      "text/plain": [
       "<matplotlib.figure.Figure at 0x11163e8d0>"
      ]
     },
     "metadata": {},
     "output_type": "display_data"
    }
   ],
   "source": [
    "#Comparing Execution Time\n",
    "\n",
    "#ax = DF[['RED-PAIRS-L','RED-PAIRS-E','RED-B2B-E']].plot(kind='bar', logy=True)\n",
    "ax = DF[['TOTALCPU-PAIR-L','TOTALCPU-PAIR-E','TOTALCPU-B2B-L','TOTALCPU-B2B-E']].plot(kind='bar', logy=True)\n",
    "ax.set_ylim(38545954000, 91545954000)"
   ]
  },
  {
   "cell_type": "code",
   "execution_count": 180,
   "metadata": {
    "collapsed": false
   },
   "outputs": [
    {
     "data": {
      "text/plain": [
       "(1000, 3000)"
      ]
     },
     "execution_count": 180,
     "metadata": {},
     "output_type": "execute_result"
    },
    {
     "data": {
      "image/png": "[encoded data removed]",
      "text/plain": [
       "<matplotlib.figure.Figure at 0x112c3cb50>"
      ]
     },
     "metadata": {},
     "output_type": "display_data"
    }
   ],
   "source": [
    "#Comparing Average Execution Time\n",
    "\n",
    "ax = DF[['AVGCPU-PAIR-L','AVGCPU-PAIR-E','AVGCPU-B2B-L','AVGCPU-B2B-E']].plot(kind='bar', logy=True)\n",
    "ax.set_ylim(1000, 3000)"
   ]
  },
  {
   "cell_type": "code",
   "execution_count": 96,
   "metadata": {
    "collapsed": false
   },
   "outputs": [
    {
     "data": {
      "text/plain": [
       "<matplotlib.axes._subplots.AxesSubplot at 0x10d4809d0>"
      ]
     },
     "execution_count": 96,
     "metadata": {},
     "output_type": "execute_result"
    },
    {
     "data": {
      "image/png": "[encoded data removed]",
      "text/plain": [
       "<matplotlib.figure.Figure at 0x10d41c490>"
      ]
     },
     "metadata": {},
     "output_type": "display_data"
    }
   ],
   "source": [
    "#STACKED FOR AGGREGATES AND UPDATES\n",
    "df_b2b_agg = DF[['AGG-B2B-E-MERGE','AGG-B2B-E-UPDATE']]\n",
    "df_b2b_agg.plot(kind='bar', stacked=True, logy=True)"
   ]
  },
  {
   "cell_type": "code",
   "execution_count": null,
   "metadata": {
    "collapsed": true
   },
   "outputs": [],
   "source": []
  }
 ],
 "metadata": {
  "kernelspec": {
   "display_name": "Python 2",
   "language": "python",
   "name": "python2"
  },
  "language_info": {
   "codemirror_mode": {
    "name": "ipython",
    "version": 2
   },
   "file_extension": ".py",
   "mimetype": "text/x-python",
   "name": "python",
   "nbconvert_exporter": "python",
   "pygments_lexer": "ipython2",
   "version": "2.7.11"
  }
 },
 "nbformat": 4,
 "nbformat_minor": 0
}
