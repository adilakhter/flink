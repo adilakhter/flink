{
 "cells": [
  {
   "cell_type": "markdown",
   "metadata": {},
   "source": [
    "# Window Aggregation Experiments"
   ]
  },
  {
   "cell_type": "markdown",
   "metadata": {},
   "source": [
    "<h2>Setting up</h2>"
   ]
  },
  {
   "cell_type": "code",
   "execution_count": 1517,
   "metadata": {
    "collapsed": false,
    "scrolled": false
   },
   "outputs": [],
   "source": [
    "#PAIRS COMPARISON\n",
    "\n",
    "#throughput fig x 10^6..\n",
    "#legend in second fig.\n",
    "#better colors\n",
    "\n",
    "\n",
    "import pandas as pd\n",
    "import numpy as np\n",
    "import matplotlib as mpl\n",
    "import matplotlib.pyplot as plt\n",
    "%matplotlib inline\n",
    "\n",
    "from math import sqrt\n",
    "SPINE_COLOR = 'gray'"
   ]
  },
  {
   "cell_type": "markdown",
   "metadata": {},
   "source": [
    "<h3>Experiment 1</h3>"
   ]
  },
  {
   "cell_type": "code",
   "execution_count": 1518,
   "metadata": {
    "collapsed": false,
    "scrolled": false
   },
   "outputs": [
    {
     "data": {
      "text/html": [
       "<div>\n",
       "<table border=\"1\" class=\"dataframe\">\n",
       "  <thead>\n",
       "    <tr style=\"text-align: right;\">\n",
       "      <th></th>\n",
       "      <th>AGG-PAIRS-L-MERGE</th>\n",
       "      <th>AGG-PAIRS-E-MERGE</th>\n",
       "      <th>AGG-B2B-L-MERGE</th>\n",
       "      <th>AGG-B2B-E-MERGE</th>\n",
       "      <th>AGG-GEN-L-MERGE</th>\n",
       "      <th>AGG-GEN-E-MERGE</th>\n",
       "      <th>AGG-PAIRS-L-UPDATE</th>\n",
       "      <th>AGG-PAIRS-E-UPDATE</th>\n",
       "      <th>AGG-B2B-L-UPDATE</th>\n",
       "      <th>AGG-B2B-E-UPDATE</th>\n",
       "      <th>AGG-GEN-L-UPDATE</th>\n",
       "      <th>AGG-GEN-E-UPDATE</th>\n",
       "      <th>RED-PAIRS-L</th>\n",
       "      <th>RED-PAIRS-E</th>\n",
       "      <th>RED-B2B-L</th>\n",
       "      <th>RED-B2B-E</th>\n",
       "      <th>RED-GEN-L</th>\n",
       "      <th>RED-GEN-E</th>\n",
       "      <th>MAXB-PAIR-L</th>\n",
       "      <th>MAXB-PAIR-E</th>\n",
       "      <th>MAXB-B2B-L</th>\n",
       "      <th>MAXB-B2B-E</th>\n",
       "      <th>MAXB-GEN-L</th>\n",
       "      <th>MAXB-GEN-E</th>\n",
       "      <th>AVGB-PAIR-L</th>\n",
       "      <th>...</th>\n",
       "      <th>AVGB-B2B-E</th>\n",
       "      <th>AVGB-GEN-L</th>\n",
       "      <th>AVGB-GEN-E</th>\n",
       "      <th>PARTIALS-PAIR-L</th>\n",
       "      <th>PARTIALS-PAIR-E</th>\n",
       "      <th>PARTIALS-B2B-L</th>\n",
       "      <th>PARTIALS-B2B-E</th>\n",
       "      <th>PARTIALS-GEN-L</th>\n",
       "      <th>PARTIALS-GEN-E</th>\n",
       "      <th>AVGCPU-PAIR-L</th>\n",
       "      <th>AVGCPU-PAIR-E</th>\n",
       "      <th>AVGCPU-B2B-L</th>\n",
       "      <th>AVGCPU-B2B-E</th>\n",
       "      <th>AVGCPU-GEN-L</th>\n",
       "      <th>AVGCPU-GEN-E</th>\n",
       "      <th>TOTALCPU-PAIR-L</th>\n",
       "      <th>TOTALCPU-PAIR-E</th>\n",
       "      <th>TOTALCPU-B2B-L</th>\n",
       "      <th>TOTALCPU-B2B-E</th>\n",
       "      <th>TOTALCPU-GEN-L</th>\n",
       "      <th>TOTALCPU-GEN-E</th>\n",
       "      <th>MAXB-NO</th>\n",
       "      <th>AVGB-NO</th>\n",
       "      <th>RED-NO</th>\n",
       "      <th>WINDOWS</th>\n",
       "    </tr>\n",
       "    <tr>\n",
       "      <th>#QUERIES</th>\n",
       "      <th></th>\n",
       "      <th></th>\n",
       "      <th></th>\n",
       "      <th></th>\n",
       "      <th></th>\n",
       "      <th></th>\n",
       "      <th></th>\n",
       "      <th></th>\n",
       "      <th></th>\n",
       "      <th></th>\n",
       "      <th></th>\n",
       "      <th></th>\n",
       "      <th></th>\n",
       "      <th></th>\n",
       "      <th></th>\n",
       "      <th></th>\n",
       "      <th></th>\n",
       "      <th></th>\n",
       "      <th></th>\n",
       "      <th></th>\n",
       "      <th></th>\n",
       "      <th></th>\n",
       "      <th></th>\n",
       "      <th></th>\n",
       "      <th></th>\n",
       "      <th></th>\n",
       "      <th></th>\n",
       "      <th></th>\n",
       "      <th></th>\n",
       "      <th></th>\n",
       "      <th></th>\n",
       "      <th></th>\n",
       "      <th></th>\n",
       "      <th></th>\n",
       "      <th></th>\n",
       "      <th></th>\n",
       "      <th></th>\n",
       "      <th></th>\n",
       "      <th></th>\n",
       "      <th></th>\n",
       "      <th></th>\n",
       "      <th></th>\n",
       "      <th></th>\n",
       "      <th></th>\n",
       "      <th></th>\n",
       "      <th></th>\n",
       "      <th></th>\n",
       "      <th></th>\n",
       "      <th></th>\n",
       "      <th></th>\n",
       "      <th></th>\n",
       "    </tr>\n",
       "  </thead>\n",
       "  <tbody>\n",
       "    <tr>\n",
       "      <th>1</th>\n",
       "      <td>9252</td>\n",
       "      <td>4626</td>\n",
       "      <td>6626</td>\n",
       "      <td>3626</td>\n",
       "      <td>62446374</td>\n",
       "      <td>62435</td>\n",
       "      <td>32381251</td>\n",
       "      <td>32399756</td>\n",
       "      <td>32385878</td>\n",
       "      <td>32385878</td>\n",
       "      <td>0</td>\n",
       "      <td>858082771</td>\n",
       "      <td>32390503</td>\n",
       "      <td>32404382</td>\n",
       "      <td>32390504</td>\n",
       "      <td>32390504</td>\n",
       "      <td>62446374</td>\n",
       "      <td>858145206</td>\n",
       "      <td>4</td>\n",
       "      <td>7</td>\n",
       "      <td>4</td>\n",
       "      <td>7</td>\n",
       "      <td>16384</td>\n",
       "      <td>32767</td>\n",
       "      <td>4.0</td>\n",
       "      <td>...</td>\n",
       "      <td>5.0</td>\n",
       "      <td>2977.454545</td>\n",
       "      <td>5953.909091</td>\n",
       "      <td>9255</td>\n",
       "      <td>9255</td>\n",
       "      <td>4628</td>\n",
       "      <td>4628</td>\n",
       "      <td>32390506</td>\n",
       "      <td>32390506</td>\n",
       "      <td>224</td>\n",
       "      <td>220</td>\n",
       "      <td>217</td>\n",
       "      <td>217</td>\n",
       "      <td>633</td>\n",
       "      <td>4367</td>\n",
       "      <td>7281250000</td>\n",
       "      <td>7156250000</td>\n",
       "      <td>7031250000</td>\n",
       "      <td>7046875000</td>\n",
       "      <td>20515625000</td>\n",
       "      <td>1,41E+11</td>\n",
       "      <td>1024</td>\n",
       "      <td>290</td>\n",
       "      <td>62446374</td>\n",
       "      <td>4626</td>\n",
       "    </tr>\n",
       "    <tr>\n",
       "      <th>10</th>\n",
       "      <td>2914337</td>\n",
       "      <td>470730</td>\n",
       "      <td>1855827</td>\n",
       "      <td>41788</td>\n",
       "      <td>1512769315</td>\n",
       "      <td>1252443</td>\n",
       "      <td>32325724</td>\n",
       "      <td>32762850</td>\n",
       "      <td>32349169</td>\n",
       "      <td>32611235</td>\n",
       "      <td>0</td>\n",
       "      <td>922680786</td>\n",
       "      <td>35240061</td>\n",
       "      <td>33233580</td>\n",
       "      <td>34204996</td>\n",
       "      <td>33075957</td>\n",
       "      <td>1512769315</td>\n",
       "      <td>923933229</td>\n",
       "      <td>64</td>\n",
       "      <td>127</td>\n",
       "      <td>32</td>\n",
       "      <td>63</td>\n",
       "      <td>32768</td>\n",
       "      <td>65535</td>\n",
       "      <td>24.8</td>\n",
       "      <td>...</td>\n",
       "      <td>29.0</td>\n",
       "      <td>5460.000000</td>\n",
       "      <td>10919.000000</td>\n",
       "      <td>64782</td>\n",
       "      <td>64782</td>\n",
       "      <td>41337</td>\n",
       "      <td>41337</td>\n",
       "      <td>32390506</td>\n",
       "      <td>32390506</td>\n",
       "      <td>419</td>\n",
       "      <td>395</td>\n",
       "      <td>348</td>\n",
       "      <td>357</td>\n",
       "      <td>5998</td>\n",
       "      <td>5417</td>\n",
       "      <td>13593750000</td>\n",
       "      <td>12796875000</td>\n",
       "      <td>11281250000</td>\n",
       "      <td>11578125000</td>\n",
       "      <td>1,94E+11</td>\n",
       "      <td>1,75E+11</td>\n",
       "      <td>10240</td>\n",
       "      <td>2900</td>\n",
       "      <td>624463740</td>\n",
       "      <td>102737</td>\n",
       "    </tr>\n",
       "    <tr>\n",
       "      <th>20</th>\n",
       "      <td>4376711</td>\n",
       "      <td>1001422</td>\n",
       "      <td>2987872</td>\n",
       "      <td>575069</td>\n",
       "      <td>2272125935</td>\n",
       "      <td>1918268</td>\n",
       "      <td>32325724</td>\n",
       "      <td>32762850</td>\n",
       "      <td>32346225</td>\n",
       "      <td>32622505</td>\n",
       "      <td>0</td>\n",
       "      <td>922680786</td>\n",
       "      <td>36702435</td>\n",
       "      <td>33464272</td>\n",
       "      <td>35334097</td>\n",
       "      <td>33337574</td>\n",
       "      <td>2272125935</td>\n",
       "      <td>924599054</td>\n",
       "      <td>64</td>\n",
       "      <td>127</td>\n",
       "      <td>32</td>\n",
       "      <td>63</td>\n",
       "      <td>32768</td>\n",
       "      <td>65535</td>\n",
       "      <td>24.8</td>\n",
       "      <td>...</td>\n",
       "      <td>29.0</td>\n",
       "      <td>5460.000000</td>\n",
       "      <td>10919.000000</td>\n",
       "      <td>64782</td>\n",
       "      <td>64782</td>\n",
       "      <td>44281</td>\n",
       "      <td>44281</td>\n",
       "      <td>32390506</td>\n",
       "      <td>32390506</td>\n",
       "      <td>631</td>\n",
       "      <td>622</td>\n",
       "      <td>497</td>\n",
       "      <td>497</td>\n",
       "      <td>8858</td>\n",
       "      <td>5778</td>\n",
       "      <td>20468750000</td>\n",
       "      <td>20171875000</td>\n",
       "      <td>16125000000</td>\n",
       "      <td>16125000000</td>\n",
       "      <td>2,87E+11</td>\n",
       "      <td>1,87E+11</td>\n",
       "      <td>20480</td>\n",
       "      <td>5800</td>\n",
       "      <td>1248927480</td>\n",
       "      <td>155633</td>\n",
       "    </tr>\n",
       "    <tr>\n",
       "      <th>30</th>\n",
       "      <td>7838911</td>\n",
       "      <td>1221885</td>\n",
       "      <td>6244012</td>\n",
       "      <td>1104581</td>\n",
       "      <td>4091467892</td>\n",
       "      <td>3425990</td>\n",
       "      <td>32325724</td>\n",
       "      <td>32791663</td>\n",
       "      <td>32338151</td>\n",
       "      <td>32738416</td>\n",
       "      <td>0</td>\n",
       "      <td>922652786</td>\n",
       "      <td>40164635</td>\n",
       "      <td>34013548</td>\n",
       "      <td>38582163</td>\n",
       "      <td>33842997</td>\n",
       "      <td>4091467892</td>\n",
       "      <td>926078776</td>\n",
       "      <td>64</td>\n",
       "      <td>127</td>\n",
       "      <td>64</td>\n",
       "      <td>127</td>\n",
       "      <td>32768</td>\n",
       "      <td>65535</td>\n",
       "      <td>24.8</td>\n",
       "      <td>...</td>\n",
       "      <td>48.6</td>\n",
       "      <td>5460.000000</td>\n",
       "      <td>10919.000000</td>\n",
       "      <td>64782</td>\n",
       "      <td>64782</td>\n",
       "      <td>52355</td>\n",
       "      <td>52355</td>\n",
       "      <td>32390506</td>\n",
       "      <td>32390506</td>\n",
       "      <td>995</td>\n",
       "      <td>907</td>\n",
       "      <td>677</td>\n",
       "      <td>631</td>\n",
       "      <td>13364</td>\n",
       "      <td>5749</td>\n",
       "      <td>32234375000</td>\n",
       "      <td>29390625000</td>\n",
       "      <td>21953125000</td>\n",
       "      <td>20468750000</td>\n",
       "      <td>4,33E+11</td>\n",
       "      <td>1,86E+11</td>\n",
       "      <td>30720</td>\n",
       "      <td>8700</td>\n",
       "      <td>1873391220</td>\n",
       "      <td>274100</td>\n",
       "    </tr>\n",
       "    <tr>\n",
       "      <th>40</th>\n",
       "      <td>10188061</td>\n",
       "      <td>1593907</td>\n",
       "      <td>8122743</td>\n",
       "      <td>1451464</td>\n",
       "      <td>5315777522</td>\n",
       "      <td>4457785</td>\n",
       "      <td>32325724</td>\n",
       "      <td>32789298</td>\n",
       "      <td>32338151</td>\n",
       "      <td>32737249</td>\n",
       "      <td>0</td>\n",
       "      <td>922652786</td>\n",
       "      <td>42513785</td>\n",
       "      <td>34383205</td>\n",
       "      <td>40460894</td>\n",
       "      <td>34188713</td>\n",
       "      <td>5315777522</td>\n",
       "      <td>927110571</td>\n",
       "      <td>64</td>\n",
       "      <td>127</td>\n",
       "      <td>64</td>\n",
       "      <td>127</td>\n",
       "      <td>32768</td>\n",
       "      <td>65535</td>\n",
       "      <td>24.8</td>\n",
       "      <td>...</td>\n",
       "      <td>48.6</td>\n",
       "      <td>5460.000000</td>\n",
       "      <td>10919.000000</td>\n",
       "      <td>64782</td>\n",
       "      <td>64782</td>\n",
       "      <td>52355</td>\n",
       "      <td>52355</td>\n",
       "      <td>32390506</td>\n",
       "      <td>32390506</td>\n",
       "      <td>1321</td>\n",
       "      <td>1308</td>\n",
       "      <td>768</td>\n",
       "      <td>759</td>\n",
       "      <td>18819</td>\n",
       "      <td>6448</td>\n",
       "      <td>42812500000</td>\n",
       "      <td>42390625000</td>\n",
       "      <td>24906250000</td>\n",
       "      <td>24609375000</td>\n",
       "      <td>6,10E+11</td>\n",
       "      <td>2,09E+11</td>\n",
       "      <td>40960</td>\n",
       "      <td>11600</td>\n",
       "      <td>2497854960</td>\n",
       "      <td>356970</td>\n",
       "    </tr>\n",
       "    <tr>\n",
       "      <th>50</th>\n",
       "      <td>13759550</td>\n",
       "      <td>2206177</td>\n",
       "      <td>10967908</td>\n",
       "      <td>1979633</td>\n",
       "      <td>7164212201</td>\n",
       "      <td>6065550</td>\n",
       "      <td>32325724</td>\n",
       "      <td>32797976</td>\n",
       "      <td>32338151</td>\n",
       "      <td>32745810</td>\n",
       "      <td>0</td>\n",
       "      <td>922652786</td>\n",
       "      <td>46085274</td>\n",
       "      <td>35004153</td>\n",
       "      <td>43306059</td>\n",
       "      <td>34725443</td>\n",
       "      <td>7164212201</td>\n",
       "      <td>928718336</td>\n",
       "      <td>64</td>\n",
       "      <td>127</td>\n",
       "      <td>64</td>\n",
       "      <td>127</td>\n",
       "      <td>32768</td>\n",
       "      <td>65535</td>\n",
       "      <td>24.8</td>\n",
       "      <td>...</td>\n",
       "      <td>48.6</td>\n",
       "      <td>5460.000000</td>\n",
       "      <td>10919.000000</td>\n",
       "      <td>64782</td>\n",
       "      <td>64782</td>\n",
       "      <td>52355</td>\n",
       "      <td>52355</td>\n",
       "      <td>32390506</td>\n",
       "      <td>32390506</td>\n",
       "      <td>1737</td>\n",
       "      <td>1745</td>\n",
       "      <td>1018</td>\n",
       "      <td>949</td>\n",
       "      <td>23795</td>\n",
       "      <td>6400</td>\n",
       "      <td>56281250000</td>\n",
       "      <td>56531250000</td>\n",
       "      <td>33000000000</td>\n",
       "      <td>30765625000</td>\n",
       "      <td>7,71E+11</td>\n",
       "      <td>2,07E+11</td>\n",
       "      <td>51200</td>\n",
       "      <td>14500</td>\n",
       "      <td>3122318700</td>\n",
       "      <td>483139</td>\n",
       "    </tr>\n",
       "    <tr>\n",
       "      <th>60</th>\n",
       "      <td>17668152</td>\n",
       "      <td>2747071</td>\n",
       "      <td>14097820</td>\n",
       "      <td>2433059</td>\n",
       "      <td>9158204293</td>\n",
       "      <td>7641777</td>\n",
       "      <td>32325724</td>\n",
       "      <td>32851410</td>\n",
       "      <td>32338151</td>\n",
       "      <td>32801815</td>\n",
       "      <td>0</td>\n",
       "      <td>922652786</td>\n",
       "      <td>49993876</td>\n",
       "      <td>35598481</td>\n",
       "      <td>46435971</td>\n",
       "      <td>35234874</td>\n",
       "      <td>9158204293</td>\n",
       "      <td>930294563</td>\n",
       "      <td>64</td>\n",
       "      <td>127</td>\n",
       "      <td>64</td>\n",
       "      <td>127</td>\n",
       "      <td>32768</td>\n",
       "      <td>65535</td>\n",
       "      <td>24.8</td>\n",
       "      <td>...</td>\n",
       "      <td>48.6</td>\n",
       "      <td>5460.000000</td>\n",
       "      <td>10919.000000</td>\n",
       "      <td>64782</td>\n",
       "      <td>64782</td>\n",
       "      <td>52355</td>\n",
       "      <td>52355</td>\n",
       "      <td>32390506</td>\n",
       "      <td>32390506</td>\n",
       "      <td>2211</td>\n",
       "      <td>2238</td>\n",
       "      <td>1137</td>\n",
       "      <td>1098</td>\n",
       "      <td>28357</td>\n",
       "      <td>6467</td>\n",
       "      <td>71625000000</td>\n",
       "      <td>72500000000</td>\n",
       "      <td>36859375000</td>\n",
       "      <td>35593750000</td>\n",
       "      <td>9,19E+11</td>\n",
       "      <td>2,09E+11</td>\n",
       "      <td>61440</td>\n",
       "      <td>17400</td>\n",
       "      <td>3746782440</td>\n",
       "      <td>598687</td>\n",
       "    </tr>\n",
       "    <tr>\n",
       "      <th>70</th>\n",
       "      <td>20039002</td>\n",
       "      <td>3134994</td>\n",
       "      <td>16192379</td>\n",
       "      <td>2796879</td>\n",
       "      <td>10378611926</td>\n",
       "      <td>8654381</td>\n",
       "      <td>32325724</td>\n",
       "      <td>32855724</td>\n",
       "      <td>32337495</td>\n",
       "      <td>32808500</td>\n",
       "      <td>0</td>\n",
       "      <td>922652786</td>\n",
       "      <td>52364726</td>\n",
       "      <td>35990718</td>\n",
       "      <td>48529874</td>\n",
       "      <td>35605379</td>\n",
       "      <td>10378611926</td>\n",
       "      <td>931307167</td>\n",
       "      <td>64</td>\n",
       "      <td>127</td>\n",
       "      <td>64</td>\n",
       "      <td>127</td>\n",
       "      <td>32768</td>\n",
       "      <td>65535</td>\n",
       "      <td>24.8</td>\n",
       "      <td>...</td>\n",
       "      <td>48.6</td>\n",
       "      <td>5460.000000</td>\n",
       "      <td>10919.000000</td>\n",
       "      <td>64782</td>\n",
       "      <td>64782</td>\n",
       "      <td>53011</td>\n",
       "      <td>53011</td>\n",
       "      <td>32390506</td>\n",
       "      <td>32390506</td>\n",
       "      <td>2742</td>\n",
       "      <td>2830</td>\n",
       "      <td>1340</td>\n",
       "      <td>1285</td>\n",
       "      <td>36732</td>\n",
       "      <td>7275</td>\n",
       "      <td>88843750000</td>\n",
       "      <td>91687500000</td>\n",
       "      <td>43406250000</td>\n",
       "      <td>41625000000</td>\n",
       "      <td>1,19E+12</td>\n",
       "      <td>2,36E+11</td>\n",
       "      <td>71680</td>\n",
       "      <td>20300</td>\n",
       "      <td>4371246180</td>\n",
       "      <td>680458</td>\n",
       "    </tr>\n",
       "    <tr>\n",
       "      <th>80</th>\n",
       "      <td>21876884</td>\n",
       "      <td>3412697</td>\n",
       "      <td>17684328</td>\n",
       "      <td>3056064</td>\n",
       "      <td>11333899061</td>\n",
       "      <td>9432559</td>\n",
       "      <td>32325724</td>\n",
       "      <td>32855724</td>\n",
       "      <td>32337495</td>\n",
       "      <td>32808500</td>\n",
       "      <td>0</td>\n",
       "      <td>922652786</td>\n",
       "      <td>54202608</td>\n",
       "      <td>36268421</td>\n",
       "      <td>50021823</td>\n",
       "      <td>35864564</td>\n",
       "      <td>11333899061</td>\n",
       "      <td>932085345</td>\n",
       "      <td>64</td>\n",
       "      <td>127</td>\n",
       "      <td>64</td>\n",
       "      <td>127</td>\n",
       "      <td>32768</td>\n",
       "      <td>65535</td>\n",
       "      <td>24.8</td>\n",
       "      <td>...</td>\n",
       "      <td>48.6</td>\n",
       "      <td>5460.000000</td>\n",
       "      <td>10919.000000</td>\n",
       "      <td>64782</td>\n",
       "      <td>64782</td>\n",
       "      <td>53011</td>\n",
       "      <td>53011</td>\n",
       "      <td>32390506</td>\n",
       "      <td>32390506</td>\n",
       "      <td>3384</td>\n",
       "      <td>3567</td>\n",
       "      <td>1462</td>\n",
       "      <td>1434</td>\n",
       "      <td>39154</td>\n",
       "      <td>7581</td>\n",
       "      <td>1,10E+11</td>\n",
       "      <td>1,16E+11</td>\n",
       "      <td>47375000000</td>\n",
       "      <td>46468750000</td>\n",
       "      <td>1,27E+12</td>\n",
       "      <td>2,46E+11</td>\n",
       "      <td>81920</td>\n",
       "      <td>23200</td>\n",
       "      <td>4995709920</td>\n",
       "      <td>741447</td>\n",
       "    </tr>\n",
       "    <tr>\n",
       "      <th>90</th>\n",
       "      <td>24948717</td>\n",
       "      <td>3927788</td>\n",
       "      <td>20128648</td>\n",
       "      <td>3505581</td>\n",
       "      <td>12831319737</td>\n",
       "      <td>10562782</td>\n",
       "      <td>32325724</td>\n",
       "      <td>32873520</td>\n",
       "      <td>32337495</td>\n",
       "      <td>32827317</td>\n",
       "      <td>0</td>\n",
       "      <td>922652786</td>\n",
       "      <td>57274441</td>\n",
       "      <td>36801308</td>\n",
       "      <td>52466143</td>\n",
       "      <td>36332898</td>\n",
       "      <td>12831319737</td>\n",
       "      <td>933215568</td>\n",
       "      <td>64</td>\n",
       "      <td>127</td>\n",
       "      <td>64</td>\n",
       "      <td>127</td>\n",
       "      <td>32768</td>\n",
       "      <td>65535</td>\n",
       "      <td>24.8</td>\n",
       "      <td>...</td>\n",
       "      <td>48.6</td>\n",
       "      <td>5460.000000</td>\n",
       "      <td>10919.000000</td>\n",
       "      <td>64782</td>\n",
       "      <td>64782</td>\n",
       "      <td>53011</td>\n",
       "      <td>53011</td>\n",
       "      <td>32390506</td>\n",
       "      <td>32390506</td>\n",
       "      <td>4179</td>\n",
       "      <td>3909</td>\n",
       "      <td>1644</td>\n",
       "      <td>1551</td>\n",
       "      <td>42781</td>\n",
       "      <td>7916</td>\n",
       "      <td>1,35E+11</td>\n",
       "      <td>1,27E+11</td>\n",
       "      <td>53265625000</td>\n",
       "      <td>50265625000</td>\n",
       "      <td>1,39E+12</td>\n",
       "      <td>2,56E+11</td>\n",
       "      <td>92160</td>\n",
       "      <td>26100</td>\n",
       "      <td>5620173660</td>\n",
       "      <td>836947</td>\n",
       "    </tr>\n",
       "    <tr>\n",
       "      <th>100</th>\n",
       "      <td>27161700</td>\n",
       "      <td>4243029</td>\n",
       "      <td>21925948</td>\n",
       "      <td>3785175</td>\n",
       "      <td>13973280866</td>\n",
       "      <td>11436950</td>\n",
       "      <td>32325724</td>\n",
       "      <td>32873520</td>\n",
       "      <td>32337495</td>\n",
       "      <td>32827317</td>\n",
       "      <td>0</td>\n",
       "      <td>922652786</td>\n",
       "      <td>59487424</td>\n",
       "      <td>37116549</td>\n",
       "      <td>54263443</td>\n",
       "      <td>36612492</td>\n",
       "      <td>13973280866</td>\n",
       "      <td>934089736</td>\n",
       "      <td>64</td>\n",
       "      <td>127</td>\n",
       "      <td>64</td>\n",
       "      <td>127</td>\n",
       "      <td>32768</td>\n",
       "      <td>65535</td>\n",
       "      <td>24.8</td>\n",
       "      <td>...</td>\n",
       "      <td>48.6</td>\n",
       "      <td>5460.000000</td>\n",
       "      <td>10919.000000</td>\n",
       "      <td>64782</td>\n",
       "      <td>64782</td>\n",
       "      <td>53011</td>\n",
       "      <td>53011</td>\n",
       "      <td>32390506</td>\n",
       "      <td>32390506</td>\n",
       "      <td>4664</td>\n",
       "      <td>4700</td>\n",
       "      <td>1790</td>\n",
       "      <td>1764</td>\n",
       "      <td>43194</td>\n",
       "      <td>8128</td>\n",
       "      <td>1,51E+11</td>\n",
       "      <td>1,52E+11</td>\n",
       "      <td>57984375000</td>\n",
       "      <td>57140625000</td>\n",
       "      <td>1,40E+12</td>\n",
       "      <td>2,63E+11</td>\n",
       "      <td>102400</td>\n",
       "      <td>29000</td>\n",
       "      <td>6244637400</td>\n",
       "      <td>905986</td>\n",
       "    </tr>\n",
       "  </tbody>\n",
       "</table>\n",
       "<p>11 rows × 52 columns</p>\n",
       "</div>"
      ],
      "text/plain": [
       "          AGG-PAIRS-L-MERGE  AGG-PAIRS-E-MERGE  AGG-B2B-L-MERGE  AGG-B2B-E-MERGE  AGG-GEN-L-MERGE  AGG-GEN-E-MERGE  AGG-PAIRS-L-UPDATE  AGG-PAIRS-E-UPDATE  AGG-B2B-L-UPDATE  AGG-B2B-E-UPDATE  AGG-GEN-L-UPDATE  AGG-GEN-E-UPDATE  RED-PAIRS-L  RED-PAIRS-E  RED-B2B-L  RED-B2B-E    RED-GEN-L  RED-GEN-E  MAXB-PAIR-L  MAXB-PAIR-E  MAXB-B2B-L  MAXB-B2B-E  MAXB-GEN-L  MAXB-GEN-E  AVGB-PAIR-L   ...     AVGB-B2B-E   AVGB-GEN-L    AVGB-GEN-E  PARTIALS-PAIR-L  PARTIALS-PAIR-E  PARTIALS-B2B-L  PARTIALS-B2B-E  PARTIALS-GEN-L  PARTIALS-GEN-E  AVGCPU-PAIR-L  AVGCPU-PAIR-E  AVGCPU-B2B-L  AVGCPU-B2B-E  AVGCPU-GEN-L  AVGCPU-GEN-E  TOTALCPU-PAIR-L  TOTALCPU-PAIR-E TOTALCPU-B2B-L TOTALCPU-B2B-E  TOTALCPU-GEN-L  TOTALCPU-GEN-E MAXB-NO AVGB-NO      RED-NO  WINDOWS\n",
       "#QUERIES                                                                                                                                                                                                                                                                                                                                                                                            ...                                                                                                                                                                                                                                                                                                                                                                       \n",
       "1                      9252               4626             6626             3626         62446374            62435            32381251            32399756          32385878          32385878                 0         858082771     32390503     32404382   32390504   32390504     62446374  858145206            4            7           4           7       16384       32767          4.0   ...            5.0  2977.454545   5953.909091             9255             9255            4628            4628        32390506        32390506            224            220           217           217           633          4367       7281250000       7156250000     7031250000     7046875000     20515625000        1,41E+11    1024     290    62446374     4626\n",
       "10                  2914337             470730          1855827            41788       1512769315          1252443            32325724            32762850          32349169          32611235                 0         922680786     35240061     33233580   34204996   33075957   1512769315  923933229           64          127          32          63       32768       65535         24.8   ...           29.0  5460.000000  10919.000000            64782            64782           41337           41337        32390506        32390506            419            395           348           357          5998          5417      13593750000      12796875000    11281250000    11578125000        1,94E+11        1,75E+11   10240    2900   624463740   102737\n",
       "20                  4376711            1001422          2987872           575069       2272125935          1918268            32325724            32762850          32346225          32622505                 0         922680786     36702435     33464272   35334097   33337574   2272125935  924599054           64          127          32          63       32768       65535         24.8   ...           29.0  5460.000000  10919.000000            64782            64782           44281           44281        32390506        32390506            631            622           497           497          8858          5778      20468750000      20171875000    16125000000    16125000000        2,87E+11        1,87E+11   20480    5800  1248927480   155633\n",
       "30                  7838911            1221885          6244012          1104581       4091467892          3425990            32325724            32791663          32338151          32738416                 0         922652786     40164635     34013548   38582163   33842997   4091467892  926078776           64          127          64         127       32768       65535         24.8   ...           48.6  5460.000000  10919.000000            64782            64782           52355           52355        32390506        32390506            995            907           677           631         13364          5749      32234375000      29390625000    21953125000    20468750000        4,33E+11        1,86E+11   30720    8700  1873391220   274100\n",
       "40                 10188061            1593907          8122743          1451464       5315777522          4457785            32325724            32789298          32338151          32737249                 0         922652786     42513785     34383205   40460894   34188713   5315777522  927110571           64          127          64         127       32768       65535         24.8   ...           48.6  5460.000000  10919.000000            64782            64782           52355           52355        32390506        32390506           1321           1308           768           759         18819          6448      42812500000      42390625000    24906250000    24609375000        6,10E+11        2,09E+11   40960   11600  2497854960   356970\n",
       "50                 13759550            2206177         10967908          1979633       7164212201          6065550            32325724            32797976          32338151          32745810                 0         922652786     46085274     35004153   43306059   34725443   7164212201  928718336           64          127          64         127       32768       65535         24.8   ...           48.6  5460.000000  10919.000000            64782            64782           52355           52355        32390506        32390506           1737           1745          1018           949         23795          6400      56281250000      56531250000    33000000000    30765625000        7,71E+11        2,07E+11   51200   14500  3122318700   483139\n",
       "60                 17668152            2747071         14097820          2433059       9158204293          7641777            32325724            32851410          32338151          32801815                 0         922652786     49993876     35598481   46435971   35234874   9158204293  930294563           64          127          64         127       32768       65535         24.8   ...           48.6  5460.000000  10919.000000            64782            64782           52355           52355        32390506        32390506           2211           2238          1137          1098         28357          6467      71625000000      72500000000    36859375000    35593750000        9,19E+11        2,09E+11   61440   17400  3746782440   598687\n",
       "70                 20039002            3134994         16192379          2796879      10378611926          8654381            32325724            32855724          32337495          32808500                 0         922652786     52364726     35990718   48529874   35605379  10378611926  931307167           64          127          64         127       32768       65535         24.8   ...           48.6  5460.000000  10919.000000            64782            64782           53011           53011        32390506        32390506           2742           2830          1340          1285         36732          7275      88843750000      91687500000    43406250000    41625000000        1,19E+12        2,36E+11   71680   20300  4371246180   680458\n",
       "80                 21876884            3412697         17684328          3056064      11333899061          9432559            32325724            32855724          32337495          32808500                 0         922652786     54202608     36268421   50021823   35864564  11333899061  932085345           64          127          64         127       32768       65535         24.8   ...           48.6  5460.000000  10919.000000            64782            64782           53011           53011        32390506        32390506           3384           3567          1462          1434         39154          7581         1,10E+11         1,16E+11    47375000000    46468750000        1,27E+12        2,46E+11   81920   23200  4995709920   741447\n",
       "90                 24948717            3927788         20128648          3505581      12831319737         10562782            32325724            32873520          32337495          32827317                 0         922652786     57274441     36801308   52466143   36332898  12831319737  933215568           64          127          64         127       32768       65535         24.8   ...           48.6  5460.000000  10919.000000            64782            64782           53011           53011        32390506        32390506           4179           3909          1644          1551         42781          7916         1,35E+11         1,27E+11    53265625000    50265625000        1,39E+12        2,56E+11   92160   26100  5620173660   836947\n",
       "100                27161700            4243029         21925948          3785175      13973280866         11436950            32325724            32873520          32337495          32827317                 0         922652786     59487424     37116549   54263443   36612492  13973280866  934089736           64          127          64         127       32768       65535         24.8   ...           48.6  5460.000000  10919.000000            64782            64782           53011           53011        32390506        32390506           4664           4700          1790          1764         43194          8128         1,51E+11         1,52E+11    57984375000    57140625000        1,40E+12        2,63E+11  102400   29000  6244637400   905986\n",
       "\n",
       "[11 rows x 52 columns]"
      ]
     },
     "execution_count": 1518,
     "metadata": {},
     "output_type": "execute_result"
    }
   ],
   "source": [
    "DF = pd.read_csv('../setups/exp1-flat.csv',delimiter=';', index_col=[0])\n",
    "DF"
   ]
  },
  {
   "cell_type": "code",
   "execution_count": 1519,
   "metadata": {
    "collapsed": false
   },
   "outputs": [
    {
     "data": {
      "text/plain": [
       "<matplotlib.figure.Figure at 0x152ee7a10>"
      ]
     },
     "metadata": {},
     "output_type": "display_data"
    }
   ],
   "source": [
    "# Style parameters\n",
    "pd.set_option('display.mpl_style', 'default') \n",
    "pd.set_option('display.width', 5000) \n",
    "pd.set_option('display.max_columns', 50)\n",
    "pd.options.display.mpl_style = 'default'\n",
    "new_style = {'grid': True}\n",
    "mpl.rc('axes', **new_style)\n",
    "\n",
    "# cool colors\n",
    "tableau20 = [(31, 119, 180), (174, 199, 232), (255, 127, 14), (255, 187, 120),    \n",
    "             (44, 160, 44), (152, 223, 138), (214, 39, 40), (255, 152, 150),    \n",
    "             (148, 103, 189), (197, 176, 213), (140, 86, 75), (196, 156, 148),    \n",
    "             (227, 119, 194), (247, 182, 210), (127, 127, 127), (199, 199, 199),    \n",
    "             (188, 189, 34), (219, 219, 141), (23, 190, 207), (158, 218, 229)]  \n",
    "\n",
    "#font = {'family' : 'normal',\n",
    "#        'weight' : 'bold',\n",
    "#        'size'   : 10}\n",
    "\n",
    "#mpl.rc('font', **font)\n",
    "\n",
    "#Direct input \n",
    "plt.rcParams['text.latex.preamble']=[r\"\\usepackage{lmodern}\"]\n",
    "#Options\n",
    "params = {'text.usetex' : True,\n",
    "          'font.size' : 10,\n",
    "          'font.family' : 'lmodern',\n",
    "          'text.latex.unicode': True,\n",
    "          }\n",
    "plt.rcParams.update(params) \n",
    "fig = plt.figure()\n",
    "\n",
    "#You must select the correct size of the plot in advance\n",
    "#fig.set_size_inches(3.54,3.54) \n",
    "\n",
    "def legendaryFormat(leg, resize=True):\n",
    "    # The frame is matplotlib.patches.Rectangle instance surrounding the legend.\n",
    "    frame = legend.get_frame()\n",
    "    frame.set_facecolor('white')\n",
    "    frame.set_edgecolor('white')\n",
    "\n",
    "    # Set the fontsize\n",
    "    if(resize):\n",
    "        for label in legend.get_texts():\n",
    "            label.set_fontsize('large')\n",
    "        for label in legend.get_lines():\n",
    "            label.set_linewidth(2)  # the legend line width\n",
    "        \n",
    "        \n",
    "def latexify(fig_width=None, fig_height=None, columns=1):\n",
    "    \"\"\"Set up matplotlib's RC params for LaTeX plotting.\n",
    "    Call this before plotting a figure.\n",
    "\n",
    "    Parameters\n",
    "    ----------\n",
    "    fig_width : float, optional, inches\n",
    "    fig_height : float,  optional, inches\n",
    "    columns : {1, 2}\n",
    "    \"\"\"\n",
    "\n",
    "    # code adapted from http://www.scipy.org/Cookbook/Matplotlib/LaTeX_Examples\n",
    "\n",
    "    # Width and max height in inches for IEEE journals taken from\n",
    "    # computer.org/cms/Computer.org/Journal%20templates/transactions_art_guide.pdf\n",
    "\n",
    "    assert(columns in [1,2])\n",
    "\n",
    "    if fig_width is None:\n",
    "        fig_width = 3.39 if columns==1 else 6.9 # width in inches\n",
    "\n",
    "    if fig_height is None:\n",
    "        golden_mean = (sqrt(5)-1.0)/2.0    # Aesthetic ratio\n",
    "        fig_height = fig_width*golden_mean # height in inches\n",
    "\n",
    "    MAX_HEIGHT_INCHES = 8.0\n",
    "    if fig_height > MAX_HEIGHT_INCHES:\n",
    "        print(\"WARNING: fig_height too large:\" + fig_height + \n",
    "              \"so will reduce to\" + MAX_HEIGHT_INCHES + \"inches.\")\n",
    "        fig_height = MAX_HEIGHT_INCHES\n",
    "\n",
    "    params = {'backend': 'ps',\n",
    "              'text.latex.preamble': ['\\usepackage{gensymb}'],\n",
    "              'axes.labelsize': 8, # fontsize for x and y labels (was 10)\n",
    "              'axes.titlesize': 10,\n",
    "              'text.fontsize': 9, # was 10\n",
    "              'legend.fontsize': 8, # was 10\n",
    "              'xtick.labelsize': 8,\n",
    "              'ytick.labelsize': 8,\n",
    "              'font.family' : 'helvetica',\n",
    "              'text.usetex': True,\n",
    "              'figure.figsize': [fig_width,fig_height],\n",
    "              'font.family': 'serif'\n",
    "    }\n",
    "\n",
    "    mpl.rcParams.update(params)\n",
    "\n",
    "\n",
    "def format_axes(ax):\n",
    "\n",
    "    for spine in ['top', 'right']:\n",
    "        ax.spines[spine].set_visible(False)\n",
    "\n",
    "    for spine in ['left', 'bottom']:\n",
    "        ax.spines[spine].set_color(SPINE_COLOR)\n",
    "        ax.spines[spine].set_linewidth(0.5)\n",
    "\n",
    "    ax.xaxis.set_ticks_position('bottom')\n",
    "    ax.yaxis.set_ticks_position('left')\n",
    "\n",
    "    for axis in [ax.xaxis, ax.yaxis]:\n",
    "        axis.set_tick_params(direction='out', color=SPINE_COLOR)\n",
    "\n",
    "    return ax"
   ]
  },
  {
   "cell_type": "code",
   "execution_count": 1520,
   "metadata": {
    "collapsed": true
   },
   "outputs": [],
   "source": [
    "%matplotlib inline"
   ]
  },
  {
   "cell_type": "code",
   "execution_count": 1521,
   "metadata": {
    "collapsed": true
   },
   "outputs": [],
   "source": [
    "#run for latex-optimised generation\n",
    "#plt.style.use('ggplot')\n",
    "latexify()"
   ]
  },
  {
   "cell_type": "markdown",
   "metadata": {},
   "source": [
    "<h2>Part I</h2> \n",
    "<h3>No_aggregation vs aggregation</h3>"
   ]
  },
  {
   "cell_type": "code",
   "execution_count": 1332,
   "metadata": {
    "collapsed": false
   },
   "outputs": [
    {
     "data": {
      "image/png": "[encoded data removed]",
      "text/plain": [
       "<matplotlib.figure.Figure at 0x145db1750>"
      ]
     },
     "metadata": {},
     "output_type": "display_data"
    }
   ],
   "source": [
    "#Comparing Number of Aggregates\n",
    "\n",
    "ax =DF[['RED-B2B-E','RED-NO']].plot(logy = True, style=['s-','o-'],linewidth=2, xticks=[1,10,20,30,40,50,60,70,80,90,100])\n",
    "ax.set_xlim(0,105)\n",
    "ax.set_ylim(0,8544637400)\n",
    "ax.set_xlabel(\"Number of Queries\")\n",
    "ax.set_ylabel(\"Total Reduce Calls\")\n",
    "ax.set_axis_bgcolor('white')\n",
    "\n",
    "lines,labels = ax.get_legend_handles_labels()\n",
    "legend = ax.legend(lines, ['cutty','no-sharing'], loc=5)\n",
    "\n",
    "legendaryFormat(legend)\n",
    "format_axes(ax)\n",
    "plt.tight_layout()\n",
    "fig = ax.get_figure()\n",
    "#fig.savefig('exp1redshare.pdf' )"
   ]
  },
  {
   "cell_type": "code",
   "execution_count": 1342,
   "metadata": {
    "collapsed": false
   },
   "outputs": [
    {
     "data": {
      "text/plain": [
       "<matplotlib.axes._subplots.AxesSubplot at 0x1360f23d0>"
      ]
     },
     "execution_count": 1342,
     "metadata": {},
     "output_type": "execute_result"
    },
    {
     "data": {
      "image/png": "[encoded data removed]",
      "text/plain": [
       "<matplotlib.figure.Figure at 0x14f00e050>"
      ]
     },
     "metadata": {},
     "output_type": "display_data"
    }
   ],
   "source": [
    "DF['AGG-B2B-L-UPDATE'].plot(kind='bar')"
   ]
  },
  {
   "cell_type": "code",
   "execution_count": 1422,
   "metadata": {
    "collapsed": false
   },
   "outputs": [
    {
     "data": {
      "image/png": "[encoded data removed]",
      "text/plain": [
       "<matplotlib.figure.Figure at 0x14e2ba190>"
      ]
     },
     "metadata": {},
     "output_type": "display_data"
    }
   ],
   "source": [
    "#Comparing Allocated (Memory) Resources\n",
    "#Aggregates are not enough of an argument since multi-query execution can be potentially parallelized\n",
    "#The real impact can be seen in the amount of resources allocated- notice that this is logarithmic scale!\n",
    "\n",
    "#DF[['AVGB-NO','AVGB-B2B-L']].plot(kind='bar', logy = True)\n",
    "#Comparing Number of Aggregates\n",
    "ax =DF[['MAXB-NO','MAXB-B2B-E']].plot(logy=True, style=['s-','o-'],linewidth=2, legend=False, xticks=[1,10,20,30,40,50,60,70,80,90,100])\n",
    "ax.set_xlim(0,105)\n",
    "ax.set_ylim(0,1000000)\n",
    "ax.set_xlabel(\"Number of Queries\")\n",
    "ax.set_ylabel(\"Total Memory (\\#partials)\")\n",
    "ax.set_axis_bgcolor('white')\n",
    "\n",
    "lines,labels = ax.get_legend_handles_labels()\n",
    "legend = ax.legend(lines, ['Naive','Cutty'], loc=5)\n",
    "legendaryFormat(legend)\n",
    "\n",
    "format_axes(ax)\n",
    "plt.tight_layout()\n",
    "fig = ax.get_figure()\n",
    "fig.savefig('exp1memshare.pdf', dpi=1000, bbox_inches='tight' )"
   ]
  },
  {
   "cell_type": "code",
   "execution_count": 1337,
   "metadata": {
    "collapsed": false
   },
   "outputs": [
    {
     "data": {
      "image/png": "[encoded data removed]",
      "text/plain": [
       "<matplotlib.figure.Figure at 0x14543cd50>"
      ]
     },
     "metadata": {},
     "output_type": "display_data"
    }
   ],
   "source": [
    "ax = DF[['RED-B2B-E', 'RED-B2B-L']].plot(kind='bar',color=[\"orangered\",\"cornflowerblue\"], legend=True)\n",
    "#ax.set_ylim(0,60000000)\n",
    "ax.set_xlabel(\"Number of Queries\")\n",
    "ax.set_ylabel(\"Total Reduce Calls\")\n",
    "ax.set_axis_bgcolor('white')\n",
    "\n",
    "#lines,labels = ax.get_legend_handles_labels()\n",
    "#legend = ax.legend(lines, ['b2b','no-sharing'], loc=2,  shadow=True)\n",
    "#legendaryFormat(legend)\n",
    "\n",
    "lines,labels = ax.get_legend_handles_labels()\n",
    "legend = ax.legend(lines, ['cutty (eager)','cutty (lazy)'], loc=2)\n",
    "legendaryFormat(legend)\n",
    "\n",
    "format_axes(ax)\n",
    "plt.tight_layout()\n",
    "fig = ax.get_figure()\n",
    "fig.savefig('exp1evsl.pdf', dpi=1000, bbox_inches='tight' )"
   ]
  },
  {
   "cell_type": "markdown",
   "metadata": {},
   "source": [
    "<h3>Time & number of Aggregation Calls</h3>"
   ]
  },
  {
   "cell_type": "code",
   "execution_count": 811,
   "metadata": {
    "collapsed": false,
    "scrolled": true
   },
   "outputs": [
    {
     "data": {
      "image/png": "[encoded data removed]",
      "text/plain": [
       "<matplotlib.figure.Figure at 0x13c97d410>"
      ]
     },
     "metadata": {},
     "output_type": "display_data"
    }
   ],
   "source": [
    "#DF['TOTALCPU-B2B-E'].plot()\n",
    "exectime = DF[['TOTALCPU-B2B-E']]/100000000\n",
    "#exectime.columns = ['b2b']\n",
    "ax = exectime.plot(kind='bar', legend = False)\n",
    "ax.set_xlabel(\"Number of Queries\")\n",
    "ax.set_ylabel(\"#Total Execution Time (sec)\")\n",
    "ax.set_axis_bgcolor('white')\n",
    "\n",
    "format_axes(ax)\n",
    "plt.tight_layout()\n",
    "fig = ax.get_figure()\n",
    "fig.savefig('exp1time.pdf')"
   ]
  },
  {
   "cell_type": "code",
   "execution_count": 1444,
   "metadata": {
    "collapsed": false
   },
   "outputs": [
    {
     "data": {
      "text/plain": [
       "<matplotlib.axes._subplots.AxesSubplot at 0x14b1974d0>"
      ]
     },
     "execution_count": 1444,
     "metadata": {},
     "output_type": "execute_result"
    },
    {
     "data": {
      "image/png": "[encoded data removed]",
      "text/plain": [
       "<matplotlib.figure.Figure at 0x152d9a2d0>"
      ]
     },
     "metadata": {},
     "output_type": "display_data"
    }
   ],
   "source": [
    "#DF['TOTALCPU-B2B-E'].plot()\n",
    "DF[['PARTIALS-B2B-E', 'PARTIALS-PAIR-E']].plot()\n"
   ]
  },
  {
   "cell_type": "code",
   "execution_count": 1431,
   "metadata": {
    "collapsed": false
   },
   "outputs": [
    {
     "ename": "KeyError",
     "evalue": "'SUM-B2B-RED'",
     "output_type": "error",
     "traceback": [
      "\u001b[0;31m---------------------------------------------------------------------------\u001b[0m",
      "\u001b[0;31mKeyError\u001b[0m                                  Traceback (most recent call last)",
      "\u001b[0;32m<ipython-input-1431-d68a31dda782>\u001b[0m in \u001b[0;36m<module>\u001b[0;34m()\u001b[0m\n\u001b[1;32m      8\u001b[0m \u001b[0max\u001b[0m\u001b[0;34m.\u001b[0m\u001b[0mset_axis_bgcolor\u001b[0m\u001b[0;34m(\u001b[0m\u001b[0;34m'white'\u001b[0m\u001b[0;34m)\u001b[0m\u001b[0;34m\u001b[0m\u001b[0m\n\u001b[1;32m      9\u001b[0m \u001b[0;31m#DF['SUM-B2B-RED'] = DF[['AGG-B2B-E-UPDATE']] + DF[['AGG-B2B-E-MERGE']]\u001b[0m\u001b[0;34m\u001b[0m\u001b[0;34m\u001b[0m\u001b[0m\n\u001b[0;32m---> 10\u001b[0;31m \u001b[0mreduces\u001b[0m \u001b[0;34m=\u001b[0m \u001b[0mDF\u001b[0m\u001b[0;34m[\u001b[0m\u001b[0;34m'SUM-B2B-RED'\u001b[0m\u001b[0;34m]\u001b[0m\u001b[0;34m\u001b[0m\u001b[0m\n\u001b[0m\u001b[1;32m     11\u001b[0m \u001b[0;31m#reduces.columns = ['total-agg']\u001b[0m\u001b[0;34m\u001b[0m\u001b[0;34m\u001b[0m\u001b[0m\n\u001b[1;32m     12\u001b[0m \u001b[0max2\u001b[0m\u001b[0;34m.\u001b[0m\u001b[0mplot\u001b[0m\u001b[0;34m(\u001b[0m\u001b[0max\u001b[0m\u001b[0;34m.\u001b[0m\u001b[0mget_xticks\u001b[0m\u001b[0;34m(\u001b[0m\u001b[0;34m)\u001b[0m\u001b[0;34m,\u001b[0m\u001b[0mreduces\u001b[0m\u001b[0;34m,\u001b[0m\u001b[0mlinestyle\u001b[0m\u001b[0;34m=\u001b[0m\u001b[0;34m'-'\u001b[0m\u001b[0;34m,\u001b[0m \u001b[0mmarker\u001b[0m\u001b[0;34m=\u001b[0m\u001b[0;34m'o'\u001b[0m\u001b[0;34m,\u001b[0m\u001b[0mlinewidth\u001b[0m\u001b[0;34m=\u001b[0m\u001b[0;36m2\u001b[0m\u001b[0;34m)\u001b[0m\u001b[0;34m\u001b[0m\u001b[0m\n",
      "\u001b[0;32m/Users/carbone/anaconda/lib/python2.7/site-packages/pandas/core/frame.pyc\u001b[0m in \u001b[0;36m__getitem__\u001b[0;34m(self, key)\u001b[0m\n\u001b[1;32m   1795\u001b[0m             \u001b[0;32mreturn\u001b[0m \u001b[0mself\u001b[0m\u001b[0;34m.\u001b[0m\u001b[0m_getitem_multilevel\u001b[0m\u001b[0;34m(\u001b[0m\u001b[0mkey\u001b[0m\u001b[0;34m)\u001b[0m\u001b[0;34m\u001b[0m\u001b[0m\n\u001b[1;32m   1796\u001b[0m         \u001b[0;32melse\u001b[0m\u001b[0;34m:\u001b[0m\u001b[0;34m\u001b[0m\u001b[0m\n\u001b[0;32m-> 1797\u001b[0;31m             \u001b[0;32mreturn\u001b[0m \u001b[0mself\u001b[0m\u001b[0;34m.\u001b[0m\u001b[0m_getitem_column\u001b[0m\u001b[0;34m(\u001b[0m\u001b[0mkey\u001b[0m\u001b[0;34m)\u001b[0m\u001b[0;34m\u001b[0m\u001b[0m\n\u001b[0m\u001b[1;32m   1798\u001b[0m \u001b[0;34m\u001b[0m\u001b[0m\n\u001b[1;32m   1799\u001b[0m     \u001b[0;32mdef\u001b[0m \u001b[0m_getitem_column\u001b[0m\u001b[0;34m(\u001b[0m\u001b[0mself\u001b[0m\u001b[0;34m,\u001b[0m \u001b[0mkey\u001b[0m\u001b[0;34m)\u001b[0m\u001b[0;34m:\u001b[0m\u001b[0;34m\u001b[0m\u001b[0m\n",
      "\u001b[0;32m/Users/carbone/anaconda/lib/python2.7/site-packages/pandas/core/frame.pyc\u001b[0m in \u001b[0;36m_getitem_column\u001b[0;34m(self, key)\u001b[0m\n\u001b[1;32m   1802\u001b[0m         \u001b[0;31m# get column\u001b[0m\u001b[0;34m\u001b[0m\u001b[0;34m\u001b[0m\u001b[0m\n\u001b[1;32m   1803\u001b[0m         \u001b[0;32mif\u001b[0m \u001b[0mself\u001b[0m\u001b[0;34m.\u001b[0m\u001b[0mcolumns\u001b[0m\u001b[0;34m.\u001b[0m\u001b[0mis_unique\u001b[0m\u001b[0;34m:\u001b[0m\u001b[0;34m\u001b[0m\u001b[0m\n\u001b[0;32m-> 1804\u001b[0;31m             \u001b[0;32mreturn\u001b[0m \u001b[0mself\u001b[0m\u001b[0;34m.\u001b[0m\u001b[0m_get_item_cache\u001b[0m\u001b[0;34m(\u001b[0m\u001b[0mkey\u001b[0m\u001b[0;34m)\u001b[0m\u001b[0;34m\u001b[0m\u001b[0m\n\u001b[0m\u001b[1;32m   1805\u001b[0m \u001b[0;34m\u001b[0m\u001b[0m\n\u001b[1;32m   1806\u001b[0m         \u001b[0;31m# duplicate columns & possible reduce dimensionaility\u001b[0m\u001b[0;34m\u001b[0m\u001b[0;34m\u001b[0m\u001b[0m\n",
      "\u001b[0;32m/Users/carbone/anaconda/lib/python2.7/site-packages/pandas/core/generic.pyc\u001b[0m in \u001b[0;36m_get_item_cache\u001b[0;34m(self, item)\u001b[0m\n\u001b[1;32m   1082\u001b[0m         \u001b[0mres\u001b[0m \u001b[0;34m=\u001b[0m \u001b[0mcache\u001b[0m\u001b[0;34m.\u001b[0m\u001b[0mget\u001b[0m\u001b[0;34m(\u001b[0m\u001b[0mitem\u001b[0m\u001b[0;34m)\u001b[0m\u001b[0;34m\u001b[0m\u001b[0m\n\u001b[1;32m   1083\u001b[0m         \u001b[0;32mif\u001b[0m \u001b[0mres\u001b[0m \u001b[0;32mis\u001b[0m \u001b[0mNone\u001b[0m\u001b[0;34m:\u001b[0m\u001b[0;34m\u001b[0m\u001b[0m\n\u001b[0;32m-> 1084\u001b[0;31m             \u001b[0mvalues\u001b[0m \u001b[0;34m=\u001b[0m \u001b[0mself\u001b[0m\u001b[0;34m.\u001b[0m\u001b[0m_data\u001b[0m\u001b[0;34m.\u001b[0m\u001b[0mget\u001b[0m\u001b[0;34m(\u001b[0m\u001b[0mitem\u001b[0m\u001b[0;34m)\u001b[0m\u001b[0;34m\u001b[0m\u001b[0m\n\u001b[0m\u001b[1;32m   1085\u001b[0m             \u001b[0mres\u001b[0m \u001b[0;34m=\u001b[0m \u001b[0mself\u001b[0m\u001b[0;34m.\u001b[0m\u001b[0m_box_item_values\u001b[0m\u001b[0;34m(\u001b[0m\u001b[0mitem\u001b[0m\u001b[0;34m,\u001b[0m \u001b[0mvalues\u001b[0m\u001b[0;34m)\u001b[0m\u001b[0;34m\u001b[0m\u001b[0m\n\u001b[1;32m   1086\u001b[0m             \u001b[0mcache\u001b[0m\u001b[0;34m[\u001b[0m\u001b[0mitem\u001b[0m\u001b[0;34m]\u001b[0m \u001b[0;34m=\u001b[0m \u001b[0mres\u001b[0m\u001b[0;34m\u001b[0m\u001b[0m\n",
      "\u001b[0;32m/Users/carbone/anaconda/lib/python2.7/site-packages/pandas/core/internals.pyc\u001b[0m in \u001b[0;36mget\u001b[0;34m(self, item, fastpath)\u001b[0m\n\u001b[1;32m   2849\u001b[0m \u001b[0;34m\u001b[0m\u001b[0m\n\u001b[1;32m   2850\u001b[0m             \u001b[0;32mif\u001b[0m \u001b[0;32mnot\u001b[0m \u001b[0misnull\u001b[0m\u001b[0;34m(\u001b[0m\u001b[0mitem\u001b[0m\u001b[0;34m)\u001b[0m\u001b[0;34m:\u001b[0m\u001b[0;34m\u001b[0m\u001b[0m\n\u001b[0;32m-> 2851\u001b[0;31m                 \u001b[0mloc\u001b[0m \u001b[0;34m=\u001b[0m \u001b[0mself\u001b[0m\u001b[0;34m.\u001b[0m\u001b[0mitems\u001b[0m\u001b[0;34m.\u001b[0m\u001b[0mget_loc\u001b[0m\u001b[0;34m(\u001b[0m\u001b[0mitem\u001b[0m\u001b[0;34m)\u001b[0m\u001b[0;34m\u001b[0m\u001b[0m\n\u001b[0m\u001b[1;32m   2852\u001b[0m             \u001b[0;32melse\u001b[0m\u001b[0;34m:\u001b[0m\u001b[0;34m\u001b[0m\u001b[0m\n\u001b[1;32m   2853\u001b[0m                 \u001b[0mindexer\u001b[0m \u001b[0;34m=\u001b[0m \u001b[0mnp\u001b[0m\u001b[0;34m.\u001b[0m\u001b[0marange\u001b[0m\u001b[0;34m(\u001b[0m\u001b[0mlen\u001b[0m\u001b[0;34m(\u001b[0m\u001b[0mself\u001b[0m\u001b[0;34m.\u001b[0m\u001b[0mitems\u001b[0m\u001b[0;34m)\u001b[0m\u001b[0;34m)\u001b[0m\u001b[0;34m[\u001b[0m\u001b[0misnull\u001b[0m\u001b[0;34m(\u001b[0m\u001b[0mself\u001b[0m\u001b[0;34m.\u001b[0m\u001b[0mitems\u001b[0m\u001b[0;34m)\u001b[0m\u001b[0;34m]\u001b[0m\u001b[0;34m\u001b[0m\u001b[0m\n",
      "\u001b[0;32m/Users/carbone/anaconda/lib/python2.7/site-packages/pandas/core/index.pyc\u001b[0m in \u001b[0;36mget_loc\u001b[0;34m(self, key, method)\u001b[0m\n\u001b[1;32m   1570\u001b[0m         \"\"\"\n\u001b[1;32m   1571\u001b[0m         \u001b[0;32mif\u001b[0m \u001b[0mmethod\u001b[0m \u001b[0;32mis\u001b[0m \u001b[0mNone\u001b[0m\u001b[0;34m:\u001b[0m\u001b[0;34m\u001b[0m\u001b[0m\n\u001b[0;32m-> 1572\u001b[0;31m             \u001b[0;32mreturn\u001b[0m \u001b[0mself\u001b[0m\u001b[0;34m.\u001b[0m\u001b[0m_engine\u001b[0m\u001b[0;34m.\u001b[0m\u001b[0mget_loc\u001b[0m\u001b[0;34m(\u001b[0m\u001b[0m_values_from_object\u001b[0m\u001b[0;34m(\u001b[0m\u001b[0mkey\u001b[0m\u001b[0;34m)\u001b[0m\u001b[0;34m)\u001b[0m\u001b[0;34m\u001b[0m\u001b[0m\n\u001b[0m\u001b[1;32m   1573\u001b[0m \u001b[0;34m\u001b[0m\u001b[0m\n\u001b[1;32m   1574\u001b[0m         \u001b[0mindexer\u001b[0m \u001b[0;34m=\u001b[0m \u001b[0mself\u001b[0m\u001b[0;34m.\u001b[0m\u001b[0mget_indexer\u001b[0m\u001b[0;34m(\u001b[0m\u001b[0;34m[\u001b[0m\u001b[0mkey\u001b[0m\u001b[0;34m]\u001b[0m\u001b[0;34m,\u001b[0m \u001b[0mmethod\u001b[0m\u001b[0;34m=\u001b[0m\u001b[0mmethod\u001b[0m\u001b[0;34m)\u001b[0m\u001b[0;34m\u001b[0m\u001b[0m\n",
      "\u001b[0;32mpandas/index.pyx\u001b[0m in \u001b[0;36mpandas.index.IndexEngine.get_loc (pandas/index.c:3824)\u001b[0;34m()\u001b[0m\n",
      "\u001b[0;32mpandas/index.pyx\u001b[0m in \u001b[0;36mpandas.index.IndexEngine.get_loc (pandas/index.c:3704)\u001b[0;34m()\u001b[0m\n",
      "\u001b[0;32mpandas/hashtable.pyx\u001b[0m in \u001b[0;36mpandas.hashtable.PyObjectHashTable.get_item (pandas/hashtable.c:12280)\u001b[0;34m()\u001b[0m\n",
      "\u001b[0;32mpandas/hashtable.pyx\u001b[0m in \u001b[0;36mpandas.hashtable.PyObjectHashTable.get_item (pandas/hashtable.c:12231)\u001b[0;34m()\u001b[0m\n",
      "\u001b[0;31mKeyError\u001b[0m: 'SUM-B2B-RED'"
     ]
    },
    {
     "data": {
      "image/png": "[encoded data removed]",
      "text/plain": [
       "<matplotlib.figure.Figure at 0x13ba35950>"
      ]
     },
     "metadata": {},
     "output_type": "display_data"
    }
   ],
   "source": [
    "merges = DF[['AGG-B2B-E-UPDATE', 'AGG-B2B-E-MERGE']]\n",
    "ax = merges.plot(kind='bar',stacked=True, rot=1, legend=False)\n",
    "ax.set_xlabel(\"Number of Queries\")\n",
    "ax.set_ylabel(\"Total Reduce Calls\")\n",
    "ax.set_ylim(30000000,37000000)\n",
    "plt.xticks(rotation=0)\n",
    "ax2 = ax\n",
    "ax.set_axis_bgcolor('white')\n",
    "DF['SUM-B2B-RED'] = DF[['AGG-B2B-E-UPDATE']] + DF[['AGG-B2B-E-MERGE']]\n",
    "reduces = DF['SUM-B2B-RED']\n",
    "#reduces.columns = ['total-agg']\n",
    "ax2.plot(ax.get_xticks(),reduces,linestyle='-', marker='o',linewidth=2)\n",
    "\n",
    "#ax3 = DF[['RED-B2B-E']].plot(linestyle='-', marker='o', legend=True)\n",
    "ax2.set_ylim(ax.get_ylim())\n",
    "#legend\n",
    "lines, labels = ax.get_legend_handles_labels()\n",
    "lines2, labels2 = ax3.get_legend_handles_labels()\n",
    "legend = ax2.legend(lines + lines2, ['pre-agg','final-agg','total-agg'], loc=2)\n",
    "legendaryFormat(legend,resize=False)\n",
    "\n",
    "format_axes(ax)\n",
    "plt.tight_layout()\n",
    "fig = ax2.get_figure()\n",
    "fig.savefig('exp1reduces.pdf')\n"
   ]
  },
  {
   "cell_type": "markdown",
   "metadata": {},
   "source": [
    "<h2>Part II</h2> \n",
    "<h3>Periodic Query Comparison - Pairs vs B2B</h3>"
   ]
  },
  {
   "cell_type": "code",
   "execution_count": 627,
   "metadata": {
    "collapsed": false
   },
   "outputs": [
    {
     "data": {
      "text/plain": [
       "<matplotlib.axes._subplots.AxesSubplot at 0x1385d66d0>"
      ]
     },
     "execution_count": 627,
     "metadata": {},
     "output_type": "execute_result"
    },
    {
     "data": {
      "image/png": "[encoded data removed]",
      "text/plain": [
       "<matplotlib.figure.Figure at 0x1385d6210>"
      ]
     },
     "metadata": {},
     "output_type": "display_data"
    }
   ],
   "source": [
    "#Comparing Number of Generated Partials\n",
    "DF[['PARTIALS-PAIR-L','PARTIALS-B2B-L']].plot()"
   ]
  },
  {
   "cell_type": "code",
   "execution_count": 91,
   "metadata": {
    "collapsed": false,
    "scrolled": true
   },
   "outputs": [
    {
     "data": {
      "text/plain": [
       "<matplotlib.axes._subplots.AxesSubplot at 0x113431c90>"
      ]
     },
     "execution_count": 91,
     "metadata": {},
     "output_type": "execute_result"
    },
    {
     "data": {
      "image/png": "[encoded data removed]",
      "text/plain": [
       "<matplotlib.figure.Figure at 0x112191d90>"
      ]
     },
     "metadata": {},
     "output_type": "display_data"
    }
   ],
   "source": [
    "#Comparing Memory Requirements\n",
    "\n",
    "#MAX MEMORY BUGGER ALLOCATED\n",
    "DF[['MAXB-PAIR-L','MAXB-PAIR-E','MAXB-B2B-E']].plot(kind='bar')"
   ]
  },
  {
   "cell_type": "code",
   "execution_count": 791,
   "metadata": {
    "collapsed": false
   },
   "outputs": [
    {
     "data": {
      "image/png": "[encoded data removed]",
      "text/plain": [
       "<matplotlib.figure.Figure at 0x136952f50>"
      ]
     },
     "metadata": {},
     "output_type": "display_data"
    }
   ],
   "source": [
    "#MAX MEMORY BUFFERS ALLOCATED\n",
    "#DF['AVGPARTIALS-PAIR'] = DF['PARTIALS-PAIR-L'] * DF.index / DF['WINDOWS']\n",
    "#DF['AVGPARTIALS-B2B'] = DF['PARTIALS-B2B-L'] * DF.index / DF['WINDOWS']\n",
    "\n",
    "ax = DF.loc[[1, 20], ['AVGB-B2B-E','AVGB-PAIR-L','AVGB-PAIR-E']].plot(kind='bar', legend=False)\n",
    "\n",
    "ax.set_xlabel(\"Number of Queries\")\n",
    "ax.set_ylabel(\"Average Memory (#partials) \")\n",
    "ax.set_axis_bgcolor('white')\n",
    "\n",
    "lines,labels = ax.get_legend_handles_labels()\n",
    "#legend = ax.legend(lines, ['b2b','pair-sharing','pair-sharing+'], loc=2)\n",
    "\n",
    "#legendaryFormat(legend)\n",
    "format_axes(ax)\n",
    "plt.tight_layout()\n",
    "fig = ax.get_figure()\n",
    "fig.savefig('exp2mem.pdf' )\n"
   ]
  },
  {
   "cell_type": "code",
   "execution_count": null,
   "metadata": {
    "collapsed": true
   },
   "outputs": [],
   "source": []
  },
  {
   "cell_type": "code",
   "execution_count": 1536,
   "metadata": {
    "collapsed": false
   },
   "outputs": [
    {
     "data": {
      "image/png": "[encoded data removed]",
      "text/plain": [
       "<matplotlib.figure.Figure at 0x146997b90>"
      ]
     },
     "metadata": {},
     "output_type": "display_data"
    }
   ],
   "source": [
    "#MAX MEMORY BUFFERS ALLOCATED\n",
    "#DF['AVGPARTIALS-PAIR'] = DF['PARTIALS-PAIR-L'] * DF.index / DF['WINDOWS']\n",
    "#DF['AVGPARTIALS-B2B'] = DF['PARTIALS-B2B-L'] * DF.index / DF['WINDOWS']\n",
    "\n",
    "DF['AGG-B2B-L-STORE'] = DF['AGG-B2B-L-UPDATE']-32300000\n",
    "DF['AGG-PAIRS-L-STORE'] = DF['AGG-PAIRS-L-UPDATE']-32300000\n",
    "ax = DF.loc[[10,20,100], ['AGG-B2B-L-STORE','AGG-PAIRS-L-STORE']].plot(kind='bar',  legend=False)\n",
    "\n",
    "ax.set_xlabel(\"Number of Queries\")\n",
    "ax.set_ylabel(\"Total Reduce Calls (merge)\")\n",
    "ax.set_axis_bgcolor('white')\n",
    "\n",
    "lines,labels = ax.get_legend_handles_labels()\n",
    "#legend = ax.legend(lines, ['b2b','pair-sharing','pair-sharing+'], loc=2)\n",
    "\n",
    "#legendaryFormat(legend)\n",
    "format_axes(ax)\n",
    "plt.tight_layout()\n",
    "fig = ax.get_figure()\n",
    "fig.savefig('exp2calls.pdf' )\n"
   ]
  },
  {
   "cell_type": "code",
   "execution_count": 795,
   "metadata": {
    "collapsed": false
   },
   "outputs": [
    {
     "data": {
      "image/png": "[encoded data removed]",
      "text/plain": [
       "<matplotlib.figure.Figure at 0x13383ef10>"
      ]
     },
     "metadata": {},
     "output_type": "display_data"
    }
   ],
   "source": [
    "#Comparing Aggregation Calls\n",
    "\n",
    "#ax = DF[['RED-PAIRS-L','RED-PAIRS-E','RED-B2B-E']].plot(kind='bar', logy=True)\n",
    "ax = DF[['AGG-PAIRS-L-MERGE','AGG-PAIRS-E-MERGE','AGG-B2B-E-MERGE']].plot(kind='bar', logy=True, rot=1)\n",
    "#ax.set_ylim(0,43000000)\n",
    "\n",
    "#ax.set_xlim(0,105)\n",
    "#ax.set_ylim(0,8544637400)\n",
    "ax.set_xlabel(\"Number of Queries\")\n",
    "ax.set_ylabel(\"Reduce Calls (final)\")\n",
    "ax.set_axis_bgcolor('white')\n",
    "\n",
    "lines,labels = ax.get_legend_handles_labels()\n",
    "legend = ax.legend(lines, ['pairs-sharing','pairs-sharing+','b2b'], loc=2)\n",
    "\n",
    "legendaryFormat(legend)\n",
    "format_axes(ax)\n",
    "plt.tight_layout()\n",
    "fig = ax.get_figure()\n",
    "#fig.savefig('exp1pair.pdf' )"
   ]
  },
  {
   "cell_type": "code",
   "execution_count": 604,
   "metadata": {
    "collapsed": false
   },
   "outputs": [
    {
     "data": {
      "image/png": "[encoded data removed]",
      "text/plain": [
       "<matplotlib.figure.Figure at 0x138293490>"
      ]
     },
     "metadata": {},
     "output_type": "display_data"
    }
   ],
   "source": [
    "#Comparing Execution Time\n",
    "\n",
    "#ax = DF[['RED-PAIRS-L','RED-PAIRS-E','RED-B2B-E']].plot(kind='bar', logy=True)\n",
    "ax = DF[['TOTALCPU-PAIR-L','TOTALCPU-PAIR-E','TOTALCPU-B2B-E']].plot(kind='bar', logy=True)"
   ]
  },
  {
   "cell_type": "code",
   "execution_count": 1415,
   "metadata": {
    "collapsed": false
   },
   "outputs": [
    {
     "data": {
      "image/png": "[encoded data removed]",
      "text/plain": [
       "<matplotlib.figure.Figure at 0x14871d5d0>"
      ]
     },
     "metadata": {},
     "output_type": "display_data"
    }
   ],
   "source": [
    "#Comparing Throughput\n",
    "#FIX LINES\n",
    "DF['TP-PAIR-E'] = 1000000000/DF['AVGCPU-PAIR-E']\n",
    "DF['TP-PAIR-L'] = 1000000000/DF['AVGCPU-PAIR-L']\n",
    "DF['TP-B2B-E'] = 1000000000/DF['AVGCPU-B2B-E']\n",
    "#DF['TP-GEN-L'] = 1000000000/DF['AVGCPU-GEN-L']\n",
    "DF['TP-GEN-E'] = 1000000000/DF['AVGCPU-GEN-E']\n",
    "#ax = DF[['AVGCPU-PAIR-L','AVGCPU-PAIR-E','AVGCPU-B2B-E']].plot(kind='bar')\n",
    "#ax = DF[['TP-PAIR-L','TP-PAIR-E','TP-B2B-E','TP-GEN-L', 'TP-GEN-E']].plot(kind='bar')\n",
    "ax = DF.loc[[20,30,40,50,60,70,80,90,100],['TP-B2B-E','TP-PAIR-L','TP-PAIR-E', 'TP-GEN-E']].plot(style=[ '--', '-', '-.', ':'], linewidth=2)\n",
    "\n",
    "vals = ax.get_yticks()\n",
    "ax.set_yticklabels(['{:4.0f}k'.format(x/1000) for x in vals])\n",
    "ax.set_xlabel(\"Number of Queries\")\n",
    "ax.set_ylabel(\"Throughput (records/sec)\")\n",
    "ax.set_axis_bgcolor('white')\n",
    "\n",
    "lines,labels = ax.get_legend_handles_labels()\n",
    "legend = ax.legend(lines, ['Cutty','Pairs','Pairs+', 'RA'], loc=1)\n",
    "\n",
    "legendaryFormat(legend)\n",
    "format_axes(ax)\n",
    "plt.tight_layout()\n",
    "fig = ax.get_figure()\n",
    "fig.savefig('exp2throughput.pdf' )\n"
   ]
  },
  {
   "cell_type": "code",
   "execution_count": 757,
   "metadata": {
    "collapsed": false
   },
   "outputs": [
    {
     "data": {
      "image/png": "[encoded data removed]",
      "text/plain": [
       "<matplotlib.figure.Figure at 0x13d0eca10>"
      ]
     },
     "metadata": {},
     "output_type": "display_data"
    }
   ],
   "source": [
    "#ABANDONED\n",
    "fig = plt.figure()\n",
    "ax = fig.add_subplot(111)\n",
    "ax.set_ylim(30000000,37000000)\n",
    "ax2 = ax.twinx()\n",
    "ax2.set_ylim(30000000,37000000)\n",
    "\n",
    "DF.loc[[1, 20], ['AGG-PAIRS-E-UPDATE','AGG-PAIRS-E-MERGE']].plot(kind='bar',  ax=ax, stacked=True, position=0, legend=False)\n",
    "DF.loc[[1,20],['AGG-B2B-E-UPDATE','AGG-B2B-E-MERGE']].plot(kind='bar',  ax=ax2, stacked=True, position=1, legend=False)\n",
    "ax.set_ylabel = ('change1')\n",
    "ax2.set_ylabel = ('change2')\n",
    "plt.show()\n"
   ]
  },
  {
   "cell_type": "code",
   "execution_count": 747,
   "metadata": {
    "collapsed": false
   },
   "outputs": [
    {
     "data": {
      "image/png": "[encoded data removed]",
      "text/plain": [
       "<matplotlib.figure.Figure at 0x13590df10>"
      ]
     },
     "metadata": {},
     "output_type": "display_data"
    }
   ],
   "source": [
    "\n",
    "# TESTING STACKED FOR AGGREGATES AND UPDATES\n",
    "#df_b2b_agg = DF[['AGG-B2B-E-MERGE','AGG-B2B-E-UPDATE']]\n",
    "#df_b2b_agg.plot(kind='bar', stacked=True, logy=True, rot=1)\n",
    "\n",
    "merges = DF[['AGG-PAIRS-E-UPDATE','AGG-PAIRS-E-MERGE']]\n",
    "ax = merges.plot(kind='bar',stacked=True, rot=1, position=0, legend=False)\n",
    "ax.set_xlabel(\"Number of Queries\")\n",
    "ax.set_ylabel(\"Total Reduce Calls\")\n",
    "#ax.set_ylim(30000000,37000000)\n",
    "plt.xticks(rotation=0)\n",
    "ax2 = ax.twinx()\n",
    "ax.set_axis_bgcolor('white')\n",
    "\n",
    "\n",
    "ax2.plot(kind='bar', data=DF[['AGG-B2B-E-MERGE','AGG-B2B-E-UPDATE']], position=1, stacked=True, rot=1, legend=False)\n",
    "#ax3 = DF[['RED-B2B-E']].plot(linestyle='-', marker='o', legend=True)\n",
    "ax2.set_ylim(ax.get_ylim())\n",
    "#legend\n",
    "lines, labels = ax.get_legend_handles_labels()\n",
    "lines2, labels2 = ax3.get_legend_handles_labels()\n",
    "legend = ax2.legend(lines + lines2, ['pre-agg','final-agg','total-agg'], loc=2)\n",
    "legendaryFormat(legend,resize=False)\n",
    "\n",
    "    \n",
    "format_axes(ax)\n",
    "plt.tight_layout()\n",
    "fig = ax2.get_figure()\n",
    "fig.savefig('exp1pairreduces.pdf')\n",
    "\n"
   ]
  },
  {
   "cell_type": "code",
   "execution_count": null,
   "metadata": {
    "collapsed": true
   },
   "outputs": [],
   "source": []
  },
  {
   "cell_type": "code",
   "execution_count": 1290,
   "metadata": {
    "collapsed": false
   },
   "outputs": [
    {
     "data": {
      "image/png": "[encoded data removed]",
      "text/plain": [
       "<matplotlib.figure.Figure at 0x14eb4eb50>"
      ]
     },
     "metadata": {},
     "output_type": "display_data"
    }
   ],
   "source": [
    "df_b2b_agg = DF[['AGG-B2B-E-MERGE','AGG-B2B-L-MERGE','NO']].plot()\n",
    "#FIXME - STACK MERGES AND UPDATES PER TECHNIQUE"
   ]
  },
  {
   "cell_type": "markdown",
   "metadata": {},
   "source": [
    "<h2>Part III</h2> \n",
    "<h3>Comparing General vs B2B Shared Aggregation on periodic queries</h3>\n",
    "Here we just generate similar experiments to compare general aggregation with flatfat and b2b aggregation. Comparing general aggregation vs b2b should be mainly shown for non-periodic queries (see next part). This part is just for us, to reason a bit about the results and get a complete picture.\n"
   ]
  },
  {
   "cell_type": "code",
   "execution_count": 816,
   "metadata": {
    "collapsed": false
   },
   "outputs": [
    {
     "data": {
      "text/plain": [
       "<matplotlib.axes._subplots.AxesSubplot at 0x11f6d6050>"
      ]
     },
     "execution_count": 816,
     "metadata": {},
     "output_type": "execute_result"
    },
    {
     "data": {
      "image/png": "[encoded data removed]",
      "text/plain": [
       "<matplotlib.figure.Figure at 0x126439a10>"
      ]
     },
     "metadata": {},
     "output_type": "display_data"
    }
   ],
   "source": [
    "#Comparing Number of Generated Partials - LOGARITHMIC SCALE\n",
    "DF[['RED-GEN-L','RED-B2B-L','RED-PAIRS-L']].plot( logy=True)"
   ]
  },
  {
   "cell_type": "code",
   "execution_count": 99,
   "metadata": {
    "collapsed": false
   },
   "outputs": [
    {
     "data": {
      "text/plain": [
       "<matplotlib.axes._subplots.AxesSubplot at 0x115df6150>"
      ]
     },
     "execution_count": 99,
     "metadata": {},
     "output_type": "execute_result"
    },
    {
     "data": {
      "image/png": "[encoded data removed]",
      "text/plain": [
       "<matplotlib.figure.Figure at 0x115adf950>"
      ]
     },
     "metadata": {},
     "output_type": "display_data"
    }
   ],
   "source": [
    "#MAX MEMORY BUGGER ALLOCATED\n",
    "DF[['MAXB-GEN-E','MAXB-B2B-E']].plot(kind='bar', logy=True)"
   ]
  },
  {
   "cell_type": "code",
   "execution_count": 100,
   "metadata": {
    "collapsed": false
   },
   "outputs": [
    {
     "data": {
      "text/plain": [
       "<matplotlib.axes._subplots.AxesSubplot at 0x11642a290>"
      ]
     },
     "execution_count": 100,
     "metadata": {},
     "output_type": "execute_result"
    },
    {
     "data": {
      "image/png": "[encoded data removed]",
      "text/plain": [
       "<matplotlib.figure.Figure at 0x114367910>"
      ]
     },
     "metadata": {},
     "output_type": "display_data"
    }
   ],
   "source": [
    "#NOT SO GOOD TO SHOW\n",
    "#MAX MEMORY BUFFERS ALLOCATED\n",
    "DF[['AVGB-GEN-E','AVGB-B2B-E']].plot(kind='bar', logy=True)"
   ]
  },
  {
   "cell_type": "code",
   "execution_count": 668,
   "metadata": {
    "collapsed": false
   },
   "outputs": [
    {
     "data": {
      "image/png": "[encoded data removed]",
      "text/plain": [
       "<matplotlib.figure.Figure at 0x136661710>"
      ]
     },
     "metadata": {},
     "output_type": "display_data"
    }
   ],
   "source": [
    "#Comparing Execution Time\n",
    "\n",
    "#ax = DF[['RED-PAIRS-L','RED-PAIRS-E','RED-B2B-E']].plot(kind='bar', logy=True)\n",
    "ax = DF[['AVGCPU-GEN-E','AVGCPU-B2B-E']].plot( logy=True)\n",
    "#ax.set_ylim(38545954000, 91545954000)"
   ]
  },
  {
   "cell_type": "code",
   "execution_count": 1360,
   "metadata": {
    "collapsed": false
   },
   "outputs": [
    {
     "data": {
      "image/png": "[encoded data removed]",
      "text/plain": [
       "<matplotlib.figure.Figure at 0x149d3de90>"
      ]
     },
     "metadata": {},
     "output_type": "display_data"
    }
   ],
   "source": [
    "ax = DF.loc[[20,30,40,50,60,70,80,90,100],['AGG-GEN-E-MERGE','AGG-PAIRS-L-MERGE','AGG-B2B-E-MERGE']].plot(kind='bar', color=[\"DarkBlue\", \"DarkOrange\", \"Green\"], logy=True)\n",
    "ax.set_xlabel(\"Number of Queries\")\n",
    "ax.set_ylabel(\"Total Reduce Calls (final)\")\n",
    "ax.set_axis_bgcolor('white')\n",
    "ax.set_ylim(0,10000000)\n",
    "\n",
    "lines,labels = ax.get_legend_handles_labels()\n",
    "legend = ax.legend(lines, ['general','pair-sharing+','cutty'],  loc=4)\n",
    "\n",
    "legendaryFormat(legend)\n",
    "format_axes(ax)\n",
    "plt.tight_layout()\n",
    "fig = ax.get_figure()\n",
    "fig.savefig('exp2allred.pdf' )"
   ]
  },
  {
   "cell_type": "code",
   "execution_count": 1262,
   "metadata": {
    "collapsed": false
   },
   "outputs": [
    {
     "data": {
      "image/png": "[encoded data removed]",
      "text/plain": [
       "<matplotlib.figure.Figure at 0x14adefb90>"
      ]
     },
     "metadata": {},
     "output_type": "display_data"
    }
   ],
   "source": [
    "ax = DF[['RED-GEN-E','RED-PAIRS-E','RED-B2B-E']].plot(kind='bar', color=[\"DarkBlue\", \"DarkOrange\", \"Green\"], logy=True)\n",
    "ax.set_xlabel(\"Number of Queries\")\n",
    "ax.set_ylabel(\"Total Reduce Calls (final)\")\n",
    "ax.set_axis_bgcolor('white')\n",
    "ax.set_ylim(0,10000000)\n",
    "\n",
    "lines,labels = ax.get_legend_handles_labels()\n",
    "legend = ax.legend(lines, ['general','pair-sharing+','cutty'],  loc=4)\n",
    "\n",
    "legendaryFormat(legend)\n",
    "format_axes(ax)\n",
    "plt.tight_layout()\n",
    "fig = ax.get_figure()\n",
    "fig.savefig('exp2allred.pdf' )"
   ]
  },
  {
   "cell_type": "markdown",
   "metadata": {
    "collapsed": true
   },
   "source": [
    "<h3>Experiment 2</h3>"
   ]
  },
  {
   "cell_type": "code",
   "execution_count": 1224,
   "metadata": {
    "collapsed": false
   },
   "outputs": [
    {
     "data": {
      "text/html": [
       "<div>\n",
       "<table border=\"1\" class=\"dataframe\">\n",
       "  <thead>\n",
       "    <tr style=\"text-align: right;\">\n",
       "      <th></th>\n",
       "      <th>AGG-B2B-E-MERGE</th>\n",
       "      <th>AGG-GEN-E-MERGE</th>\n",
       "      <th>AGG-B2B-E-UPDATE</th>\n",
       "      <th>AGG-GEN-E-UPDATE</th>\n",
       "      <th>RED-B2B-E</th>\n",
       "      <th>RED-GEN-E</th>\n",
       "      <th>MAXB-B2B-E</th>\n",
       "      <th>MAXB-GEN-E</th>\n",
       "      <th>AVGB-B2B-E</th>\n",
       "      <th>AVGB-GEN-E</th>\n",
       "      <th>PARTIALS-B2B-E</th>\n",
       "      <th>PARTIALS-GEN-E</th>\n",
       "      <th>AVGCPU-B2B-E</th>\n",
       "      <th>AVGCPU-GEN-E</th>\n",
       "      <th>TOTALCPU-B2B-E</th>\n",
       "      <th>TOTALCPU-GEN-E</th>\n",
       "    </tr>\n",
       "    <tr>\n",
       "      <th>#QUERIES</th>\n",
       "      <th></th>\n",
       "      <th></th>\n",
       "      <th></th>\n",
       "      <th></th>\n",
       "      <th></th>\n",
       "      <th></th>\n",
       "      <th></th>\n",
       "      <th></th>\n",
       "      <th></th>\n",
       "      <th></th>\n",
       "      <th></th>\n",
       "      <th></th>\n",
       "      <th></th>\n",
       "      <th></th>\n",
       "      <th></th>\n",
       "      <th></th>\n",
       "    </tr>\n",
       "  </thead>\n",
       "  <tbody>\n",
       "    <tr>\n",
       "      <th>1</th>\n",
       "      <td>0</td>\n",
       "      <td>10063</td>\n",
       "      <td>32388316</td>\n",
       "      <td>425442982</td>\n",
       "      <td>32388316</td>\n",
       "      <td>425453045</td>\n",
       "      <td>7</td>\n",
       "      <td>16777215</td>\n",
       "      <td>5.000000</td>\n",
       "      <td>2100803.363636</td>\n",
       "      <td>2190</td>\n",
       "      <td>32390506</td>\n",
       "      <td>219</td>\n",
       "      <td>4083</td>\n",
       "      <td>7109375000</td>\n",
       "      <td>1,32E+11</td>\n",
       "    </tr>\n",
       "    <tr>\n",
       "      <th>20</th>\n",
       "      <td>166803</td>\n",
       "      <td>285185</td>\n",
       "      <td>32742326</td>\n",
       "      <td>426625684</td>\n",
       "      <td>32909129</td>\n",
       "      <td>426910869</td>\n",
       "      <td>255</td>\n",
       "      <td>16777215</td>\n",
       "      <td>163.579310</td>\n",
       "      <td>2915775.561404</td>\n",
       "      <td>52167</td>\n",
       "      <td>32390506</td>\n",
       "      <td>332</td>\n",
       "      <td>4266</td>\n",
       "      <td>10765625000</td>\n",
       "      <td>1,38E+11</td>\n",
       "    </tr>\n",
       "    <tr>\n",
       "      <th>40</th>\n",
       "      <td>1651452</td>\n",
       "      <td>2079787</td>\n",
       "      <td>34643069</td>\n",
       "      <td>426625684</td>\n",
       "      <td>36294521</td>\n",
       "      <td>428705471</td>\n",
       "      <td>1023</td>\n",
       "      <td>16777215</td>\n",
       "      <td>700.806452</td>\n",
       "      <td>2915775.561404</td>\n",
       "      <td>268349</td>\n",
       "      <td>32390506</td>\n",
       "      <td>697</td>\n",
       "      <td>4514</td>\n",
       "      <td>22578125000</td>\n",
       "      <td>1,46E+11</td>\n",
       "    </tr>\n",
       "  </tbody>\n",
       "</table>\n",
       "</div>"
      ],
      "text/plain": [
       "          AGG-B2B-E-MERGE  AGG-GEN-E-MERGE  AGG-B2B-E-UPDATE  AGG-GEN-E-UPDATE  RED-B2B-E  RED-GEN-E  MAXB-B2B-E  MAXB-GEN-E  AVGB-B2B-E      AVGB-GEN-E  PARTIALS-B2B-E  PARTIALS-GEN-E  AVGCPU-B2B-E  AVGCPU-GEN-E  TOTALCPU-B2B-E TOTALCPU-GEN-E\n",
       "#QUERIES                                                                                                                                                                                                                                           \n",
       "1                       0            10063          32388316         425442982   32388316  425453045           7    16777215    5.000000  2100803.363636            2190        32390506           219          4083      7109375000       1,32E+11\n",
       "20                 166803           285185          32742326         426625684   32909129  426910869         255    16777215  163.579310  2915775.561404           52167        32390506           332          4266     10765625000       1,38E+11\n",
       "40                1651452          2079787          34643069         426625684   36294521  428705471        1023    16777215  700.806452  2915775.561404          268349        32390506           697          4514     22578125000       1,46E+11"
      ]
     },
     "execution_count": 1224,
     "metadata": {},
     "output_type": "execute_result"
    }
   ],
   "source": [
    "DF2 = pd.read_csv('../setups/exp2-flat.csv',delimiter=';', index_col=[0])\n",
    "DF2"
   ]
  },
  {
   "cell_type": "code",
   "execution_count": 1241,
   "metadata": {
    "collapsed": false
   },
   "outputs": [
    {
     "data": {
      "text/plain": [
       "<matplotlib.axes._subplots.AxesSubplot at 0x1372f2310>"
      ]
     },
     "execution_count": 1241,
     "metadata": {},
     "output_type": "execute_result"
    },
    {
     "data": {
      "image/png": "[encoded data removed]",
      "text/plain": [
       "<matplotlib.figure.Figure at 0x1372f2350>"
      ]
     },
     "metadata": {},
     "output_type": "display_data"
    }
   ],
   "source": [
    "#Comparing Number of Generated Partials - LOGARITHMIC SCALE\n",
    "DF2[['PARTIALS-GEN-E','PARTIALS-B2B-E']].plot(kind='bar', logy=True, legend= False)"
   ]
  },
  {
   "cell_type": "code",
   "execution_count": 1239,
   "metadata": {
    "collapsed": false
   },
   "outputs": [
    {
     "data": {
      "text/plain": [
       "<matplotlib.axes._subplots.AxesSubplot at 0x13d2be6d0>"
      ]
     },
     "execution_count": 1239,
     "metadata": {},
     "output_type": "execute_result"
    },
    {
     "data": {
      "image/png": "[encoded data removed]",
      "text/plain": [
       "<matplotlib.figure.Figure at 0x13d2b40d0>"
      ]
     },
     "metadata": {},
     "output_type": "display_data"
    }
   ],
   "source": [
    "#MAX MEMORY BUGGER ALLOCATED\n",
    "DF2[['MAXB-GEN-E','MAXB-B2B-E']].plot(kind='bar', logy=True, legend=False)"
   ]
  },
  {
   "cell_type": "code",
   "execution_count": 1252,
   "metadata": {
    "collapsed": false
   },
   "outputs": [
    {
     "data": {
      "image/png": "[encoded data removed]",
      "text/plain": [
       "<matplotlib.figure.Figure at 0x14584b950>"
      ]
     },
     "metadata": {},
     "output_type": "display_data"
    }
   ],
   "source": [
    "#MAX MEMORY BUFFERS ALLOCATED\n",
    "ax = DF2[['AVGB-GEN-E','AVGB-B2B-E']].plot(kind='bar', logy=True, legend=False)\n",
    "\n",
    "ax.set_xlabel(\"Number of Queries\")\n",
    "ax.set_ylabel(\"Average Memory (#partials) \")\n",
    "ax.set_axis_bgcolor('white')\n",
    "\n",
    "#lines,labels = ax.get_legend_handles_labels()\n",
    "#legend = ax.legend(lines, ['general','b2b'],  loc=1)\n",
    "#legendaryFormat(legend)\n",
    "\n",
    "format_axes(ax)\n",
    "plt.tight_layout()\n",
    "fig = ax.get_figure()\n",
    "fig.savefig('exp3mem.pdf' )"
   ]
  },
  {
   "cell_type": "code",
   "execution_count": 1260,
   "metadata": {
    "collapsed": false
   },
   "outputs": [
    {
     "data": {
      "image/png": "[encoded data removed]",
      "text/plain": [
       "<matplotlib.figure.Figure at 0x147e348d0>"
      ]
     },
     "metadata": {},
     "output_type": "display_data"
    }
   ],
   "source": [
    "#THROUGHPUT\n",
    "DF2['TP-GEN-E'] = 1000000000/DF2['AVGCPU-GEN-E']\n",
    "DF2['TP-B2B-E'] = 1000000000/DF2['AVGCPU-B2B-E']\n",
    "ax = DF2.loc[[1, 20, 40],['TP-GEN-E','TP-B2B-E']].plot(kind='bar')\n",
    "#FIXME - STACK MERGES AND UPDATES PER TECHNIQUE\n",
    "\n",
    "ax.set_xlabel(\"Number of Queries\")\n",
    "ax.set_ylabel(\"Throughput (records/sec)\")\n",
    "ax.set_axis_bgcolor('white')\n",
    "#ax.set_ylim(0,10000000)\n",
    "\n",
    "lines,labels = ax.get_legend_handles_labels()\n",
    "legend = ax.legend(lines, ['general','cutty'],  loc=1)\n",
    "\n",
    "legendaryFormat(legend)\n",
    "format_axes(ax)\n",
    "plt.tight_layout()\n",
    "fig = ax.get_figure()\n",
    "fig.savefig('exp3tp.pdf' )"
   ]
  },
  {
   "cell_type": "code",
   "execution_count": 1250,
   "metadata": {
    "collapsed": false
   },
   "outputs": [
    {
     "data": {
      "image/png": "[encoded data removed]",
      "text/plain": [
       "<matplotlib.figure.Figure at 0x13be577d0>"
      ]
     },
     "metadata": {},
     "output_type": "display_data"
    }
   ],
   "source": [
    "#TOTAL REDUCES\n",
    "ax = DF2.loc[[1, 20, 40],['RED-GEN-E','RED-B2B-E']].plot(kind='bar', legend=False)\n",
    "ax.set_xlabel(\"Number of Queries\")\n",
    "ax.set_ylabel(\"Total Reduce Calls\")\n",
    "ax.set_axis_bgcolor('white')\n",
    "#ax.set_ylim(0,10000000)\n",
    "\n",
    "#lines,labels = ax.get_legend_handles_labels()\n",
    "#legend = ax.legend(lines, ['general','b2b'],  loc=1)\n",
    "\n",
    "#legendaryFormat(legend)\n",
    "format_axes(ax)\n",
    "plt.tight_layout()\n",
    "fig = ax.get_figure()\n",
    "fig.savefig('exp3red.pdf' )"
   ]
  },
  {
   "cell_type": "code",
   "execution_count": 1477,
   "metadata": {
    "collapsed": false
   },
   "outputs": [
    {
     "data": {
      "image/png": "[encoded data removed]",
      "text/plain": [
       "<matplotlib.figure.Figure at 0x1501f81d0>"
      ]
     },
     "metadata": {},
     "output_type": "display_data"
    }
   ],
   "source": [
    "pwindows = pd.read_csv('../setups/puncwindows.csv',delimiter=';', index_col=[0]).reset_index()\n",
    "perwindows = pd.read_csv('../setups/perwindows.csv',delimiter=',', index_col=[0]).reset_index()\n",
    "merged = pd.merge(perwindows, pwindows, how = 'outer', left_index = True, right_index=True)\n",
    "\n",
    "merged.rename(columns={'RANGE':'COUNT-RANGE','SLIDE':'COUNT-SLIDE','SIZES':'PUNCTUATION'}, inplace=True)\n",
    "ax = merged[['PUNCTUATION','COUNT-RANGE','COUNT-SLIDE']].boxplot(meanline=True, showmeans=True, showcaps=True, \n",
    "                                               showbox=True, showfliers=False)\n",
    "\n",
    "plt.tight_layout()\n",
    "plt.ylabel('Number of Records')\n",
    "plt.savefig('exp3distr.pdf', bbox_inches='tight')"
   ]
  },
  {
   "cell_type": "code",
   "execution_count": 1599,
   "metadata": {
    "collapsed": false
   },
   "outputs": [
    {
     "data": {
      "image/png": "[encoded data removed]",
      "text/plain": [
       "<matplotlib.figure.Figure at 0x14f1741d0>"
      ]
     },
     "metadata": {},
     "output_type": "display_data"
    }
   ],
   "source": [
    "import matplotlib.patches as mpatches\n",
    "\n",
    "p10 = pd.read_csv('p10',delimiter=';', index_col=[0]).reset_index()\n",
    "p20 = pd.read_csv('p20',delimiter=';', index_col=[0]).reset_index()\n",
    "p30 = pd.read_csv('p30',delimiter=';', index_col=[0]).reset_index()\n",
    "p40 = pd.read_csv('p40',delimiter=';', index_col=[0]).reset_index()\n",
    "p50 = pd.read_csv('p50',delimiter=';', index_col=[0]).reset_index()\n",
    "p60 = pd.read_csv('p60',delimiter=';', index_col=[0]).reset_index()\n",
    "p70 = pd.read_csv('p70',delimiter=';', index_col=[0]).reset_index()\n",
    "p80 = pd.read_csv('p80',delimiter=';', index_col=[0]).reset_index()\n",
    "p90 = pd.read_csv('p90',delimiter=';', index_col=[0]).reset_index()\n",
    "p100 = pd.read_csv('p100',delimiter=';', index_col=[0]).reset_index()\n",
    "\n",
    "merged = pd.merge(p10,p20, how='outer', left_index = True, right_index=True)\n",
    "merged = pd.merge(merged,p30, how='outer', left_index = True, right_index=True)\n",
    "merged = pd.merge(merged,p40, how='outer', left_index = True, right_index=True)\n",
    "merged = pd.merge(merged,p50, how='outer', left_index = True, right_index=True)\n",
    "merged = pd.merge(merged,p60, how='outer', left_index = True, right_index=True)\n",
    "merged = pd.merge(merged,p70, how='outer', left_index = True, right_index=True)\n",
    "merged = pd.merge(merged,p80, how='outer', left_index = True, right_index=True)\n",
    "#merged = pd.merge(merged,p90, how='outer', left_index = True, right_index=True)\n",
    "#merged = pd.merge(merged,p100, how='outer', left_index = True, right_index=True)\n",
    "merged.rename(columns={'RANGE10':'10','RANGE20':'20','RANGE30':'30','RANGE40':'40','RANGE50':'50','RANGE60':'60','RANGE70':'70','RANGE80':'80'\n",
    "                       #,'RANGE90':'','RANGE100':''\n",
    "                      }, inplace=True)\n",
    "ax = merged.boxplot(meanline=True, grid=False, showmeans=True, showcaps=True, showbox=True, showfliers=False)\n",
    "\n",
    "#p = Rectangle((0, 0), 1, 1, fc=\"r\")\n",
    "\n",
    "green_patch = mpatches.Patch(color='green', fill=False, label='Successful Run')\n",
    "red_patch = mpatches.Patch(color='red',fill=False, label='Failed Run', linestyle='dotted')\n",
    "\n",
    "#red_patch = mpatches.Rectangle(grid[1] - [0.025, 0.05], 0.05, 0.1, ec=\"none\")\n",
    "legend = plt.legend(handles=[green_patch,red_patch], loc=2)\n",
    "\n",
    "frame = legend.get_frame()\n",
    "frame.set_edgecolor('none')\n",
    "for label in legend.get_texts():\n",
    "    label.set_fontsize('large')\n",
    "\n",
    "plt.setp(ax['boxes'][:4], color='green')\n",
    "plt.setp(ax['boxes'][4:], color='red',linestyle=':')\n",
    "#plt.setp(ax['boxes'], linewidth=2)\n",
    "plt.tight_layout()\n",
    "plt.ylabel('Generated Slides (#records)')\n",
    "plt.xlabel('Slide Set Cardinality')\n",
    "plt.savefig('expbashpair.pdf', bbox_inches='tight')\n"
   ]
  },
  {
   "cell_type": "code",
   "execution_count": 1070,
   "metadata": {
    "collapsed": false
   },
   "outputs": [
    {
     "data": {
      "text/plain": [
       "33996.5"
      ]
     },
     "execution_count": 1070,
     "metadata": {},
     "output_type": "execute_result"
    }
   ],
   "source": [
    "13841 + 1.5 * (13841-404)"
   ]
  },
  {
   "cell_type": "code",
   "execution_count": 1205,
   "metadata": {
    "collapsed": false
   },
   "outputs": [],
   "source": [
    "#EXPLORATORY QUERIES\n",
    "#pwindows[['SIZES']].describe(percentiles=[.05, .25, .75, .80])\n",
    "#outliers = pd.read_csv('../setups/outliers.csv',delimiter=',', index_col=[0])\n",
    "#outliers = outliers.reset_index()\n",
    "#set(outliers[outliers.WINLENGTH > 3000000].WINID)"
   ]
  }
 ],
 "metadata": {
  "kernelspec": {
   "display_name": "Python 2",
   "language": "python",
   "name": "python2"
  },
  "language_info": {
   "codemirror_mode": {
    "name": "ipython",
    "version": 2
   },
   "file_extension": ".py",
   "mimetype": "text/x-python",
   "name": "python",
   "nbconvert_exporter": "python",
   "pygments_lexer": "ipython2",
   "version": "2.7.11"
  }
 },
 "nbformat": 4,
 "nbformat_minor": 0
}
